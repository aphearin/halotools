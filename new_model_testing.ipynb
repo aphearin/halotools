{
 "metadata": {
  "name": "",
  "signature": "sha256:84a3bffe62f2de4438d46d834551d40625f47c0542727df1bb4d6b1ecc51e53f"
 },
 "nbformat": 3,
 "nbformat_minor": 0,
 "worksheets": [
  {
   "cells": [
    {
     "cell_type": "code",
     "collapsed": false,
     "input": [
      "from halotools.empirical_models import Zheng07Cens, Zheng07Sats\n",
      "from halotools.empirical_models.phase_space_models import NFWPhaseSpace, TrivialPhaseSpace\n",
      "from halotools.empirical_models.alt_hod_model_factory import AltHodModelFactory\n",
      "from halotools.empirical_models.alt_mock_factories import AltHodMockFactory\n",
      "from halotools.sim_manager import HaloCatalog"
     ],
     "language": "python",
     "metadata": {},
     "outputs": [],
     "prompt_number": 1
    },
    {
     "cell_type": "code",
     "collapsed": false,
     "input": [
      "threshold = -20\n",
      "### Build model for centrals\n",
      "cen_key = 'centrals'\n",
      "cen_model_dict = {}\n",
      "# Build the occupation model\n",
      "occu_cen_model = Zheng07Cens(threshold = threshold)\n",
      "cen_model_dict['occupation'] = occu_cen_model\n",
      "# Build the profile model\n",
      "cen_profile = TrivialPhaseSpace()\n",
      "cen_model_dict['profile'] = cen_profile\n"
     ],
     "language": "python",
     "metadata": {},
     "outputs": [],
     "prompt_number": 2
    },
    {
     "cell_type": "code",
     "collapsed": false,
     "input": [
      "### Build model for satellites\n",
      "sat_key = 'satellites'\n",
      "sat_model_dict = {}\n",
      "# Build the occupation model\n",
      "occu_sat_model = Zheng07Sats(threshold = threshold)\n",
      "sat_model_dict['occupation'] = occu_sat_model\n",
      "# Build the profile model\n",
      "sat_profile = NFWPhaseSpace()\n",
      "sat_model_dict['profile'] = sat_profile\n",
      "\n",
      "model_blueprint = {'centrals': cen_model_dict, \n",
      "                   'satellites': sat_model_dict\n",
      "                   }"
     ],
     "language": "python",
     "metadata": {},
     "outputs": [],
     "prompt_number": 3
    },
    {
     "cell_type": "code",
     "collapsed": false,
     "input": [
      "model = AltHodModelFactory(model_blueprint)\n",
      "print(model._mock_generation_calling_sequence)\n",
      "snapshot = HaloCatalog()"
     ],
     "language": "python",
     "metadata": {},
     "outputs": [
      {
       "output_type": "stream",
       "stream": "stdout",
       "text": [
        "['mc_occupation_centrals', 'mc_occupation_satellites', 'assign_phase_space_centrals', 'assign_phase_space_satellites']\n"
       ]
      }
     ],
     "prompt_number": 4
    },
    {
     "cell_type": "code",
     "collapsed": false,
     "input": [
      "mock = AltHodMockFactory(snapshot = snapshot, model = model, populate=False)"
     ],
     "language": "python",
     "metadata": {},
     "outputs": [
      {
       "output_type": "stream",
       "stream": "stdout",
       "text": [
        "\n",
        "...Building lookup tables for the NFWPhaseSpace radial profile.\n",
        "    (This will take about 27 seconds)"
       ]
      },
      {
       "output_type": "stream",
       "stream": "stdout",
       "text": [
        "\n"
       ]
      }
     ],
     "prompt_number": 5
    },
    {
     "cell_type": "code",
     "collapsed": false,
     "input": [
      "mock.populate()"
     ],
     "language": "python",
     "metadata": {},
     "outputs": [],
     "prompt_number": 6
    },
    {
     "cell_type": "code",
     "collapsed": false,
     "input": [
      "len(mock.galaxy_table)"
     ],
     "language": "python",
     "metadata": {},
     "outputs": [
      {
       "metadata": {},
       "output_type": "pyout",
       "prompt_number": 7,
       "text": [
        "74836"
       ]
      }
     ],
     "prompt_number": 7
    },
    {
     "cell_type": "code",
     "collapsed": false,
     "input": [
      "mock.number_density"
     ],
     "language": "python",
     "metadata": {},
     "outputs": [
      {
       "metadata": {},
       "output_type": "pyout",
       "prompt_number": 8,
       "text": [
        "0.004789504"
       ]
      }
     ],
     "prompt_number": 8
    },
    {
     "cell_type": "code",
     "collapsed": false,
     "input": [],
     "language": "python",
     "metadata": {},
     "outputs": [],
     "prompt_number": 8
    }
   ],
   "metadata": {}
  }
 ]
}