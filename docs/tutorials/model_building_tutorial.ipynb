{
 "metadata": {
  "name": "",
  "signature": "sha256:7dd54aed824e5633a055514034adbd68a9d9533bac6d2df8fa331da992ef7d21"
 },
 "nbformat": 3,
 "nbformat_minor": 0,
 "worksheets": [
  {
   "cells": [
    {
     "cell_type": "markdown",
     "metadata": {},
     "source": [
      "custom-hod-model-building-tutorial"
     ]
    },
    {
     "cell_type": "markdown",
     "metadata": {},
     "source": [
      "Building a Customized HOD-style Model and Mock"
     ]
    },
    {
     "cell_type": "markdown",
     "metadata": {},
     "source": [
      "In this tutorial, we'll cover how to design your own HOD-style model of the galaxy-halo connection. We'll start out with a relatively simple model to illustrate the basic nuts and bolts. Then we'll build two successively more complicated example models. After completing this tutorial, you will know how to take full advantage of the flexibility offered by Halotools to construct quite complex HOD models with only a few lines of code. "
     ]
    },
    {
     "cell_type": "markdown",
     "metadata": {},
     "source": [
      "Once you have learned how to build a model, you can learn how to study its observational predictions in **THESE DOCS.** \n",
      "\n",
      "To read about other styles of models you can build with Halotools, see **THESE DOCS**. "
     ]
    },
    {
     "cell_type": "code",
     "collapsed": false,
     "input": [
      "from halotools import empirical_models as models"
     ],
     "language": "python",
     "metadata": {},
     "outputs": [],
     "prompt_number": 8
    },
    {
     "cell_type": "markdown",
     "metadata": {},
     "source": [
      "## Build a satellite population"
     ]
    },
    {
     "cell_type": "code",
     "collapsed": false,
     "input": [
      "sat_nickname = 'sats'\n",
      "\n",
      "occupation_model = models.hod_components.Zheng07Sats(threshold = -19)\n",
      "\n",
      "halo_prof_model = models.halo_prof_components.NFWProfile()\n",
      "\n",
      "satellite_component_dict = {'occupation' : occupation_model, \n",
      "                            'profile' : halo_prof_model}\n"
     ],
     "language": "python",
     "metadata": {},
     "outputs": [],
     "prompt_number": 9
    },
    {
     "cell_type": "markdown",
     "metadata": {},
     "source": [
      "## Build a central population"
     ]
    },
    {
     "cell_type": "code",
     "collapsed": false,
     "input": [
      "cen_nickname = 'cens'\n",
      "\n",
      "occupation_model = models.hod_components.Zheng07Cens(threshold = -19)\n",
      "\n",
      "halo_prof_model = models.halo_prof_components.TrivialProfile()\n",
      "\n",
      "central_component_dict = {'occupation' : occupation_model, \n",
      "                            'profile' : halo_prof_model}\n"
     ],
     "language": "python",
     "metadata": {},
     "outputs": [],
     "prompt_number": 10
    },
    {
     "cell_type": "markdown",
     "metadata": {},
     "source": [
      "## Bundle the populations together into a composite model blueprint\n",
      "\n",
      "This will serve as the blueprint used by the HodModelFactory to build a composite model object"
     ]
    },
    {
     "cell_type": "code",
     "collapsed": false,
     "input": [
      "composite_model_blueprint = {cen_nickname : central_component_dict, \n",
      "                        sat_nickname : satellite_component_dict\n",
      "                        }\n"
     ],
     "language": "python",
     "metadata": {},
     "outputs": [],
     "prompt_number": 11
    },
    {
     "cell_type": "markdown",
     "metadata": {},
     "source": [
      "## Pass the blueprint to the Model Factory, which knows what to do"
     ]
    },
    {
     "cell_type": "code",
     "collapsed": false,
     "input": [
      "my_model = models.HodModelFactory(composite_model_blueprint)\n"
     ],
     "language": "python",
     "metadata": {},
     "outputs": [],
     "prompt_number": 12
    },
    {
     "cell_type": "markdown",
     "metadata": {},
     "source": [
      "Now that you have built a model, it's easy to use it to rapidly generate a mock galaxy population. Whether you've built a very simple, or very complex mock, the above and below syntax is always the same:"
     ]
    },
    {
     "cell_type": "code",
     "collapsed": false,
     "input": [
      "my_model.populate_mock()\n"
     ],
     "language": "python",
     "metadata": {},
     "outputs": [],
     "prompt_number": 13
    },
    {
     "cell_type": "markdown",
     "metadata": {},
     "source": [
      "Let's take a quick look at what we've got:"
     ]
    },
    {
     "cell_type": "code",
     "collapsed": false,
     "input": [
      "print(my_model.mock.galaxy_table[0:5])\n"
     ],
     "language": "python",
     "metadata": {},
     "outputs": [
      {
       "output_type": "stream",
       "stream": "stdout",
       "text": [
        "halo_haloid          halo_pos [3]          ... gal_NFWmodel_conc gal_type\n",
        "----------- ------------------------------ ... ----------------- --------\n",
        " 3060299659 35.7249908447 .. 17.7129898071 ...     6.45777867233     cens\n",
        " 3060313505  45.2089195251 .. 39.911239624 ...     6.47874642155     cens\n",
        " 3058441127 21.8120098114 .. 9.54759025574 ...     6.68856074462     cens\n",
        " 3058442008 26.1803398132 .. 6.51834011078 ...     6.79585452177     cens\n",
        " 3058452897 1.74397003651 .. 17.8251895905 ...     6.88196980011     cens\n"
       ]
      }
     ],
     "prompt_number": 15
    },
    {
     "cell_type": "code",
     "collapsed": false,
     "input": [],
     "language": "python",
     "metadata": {},
     "outputs": [],
     "prompt_number": 14
    }
   ],
   "metadata": {}
  }
 ]
}