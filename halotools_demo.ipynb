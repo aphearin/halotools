{
 "metadata": {
  "name": "",
  "signature": "sha256:625b74f14abb16650d4cf7ce0119220b5c7456bca5c84e1d09c41f6a16fb8072"
 },
 "nbformat": 3,
 "nbformat_minor": 0,
 "worksheets": [
  {
   "cells": [
    {
     "cell_type": "markdown",
     "metadata": {},
     "source": [
      "## Demo of a few basic Halotools calculations"
     ]
    },
    {
     "cell_type": "code",
     "collapsed": false,
     "input": [
      "%matplotlib inline\n",
      "from halotools.empirical_models import Hearin15, Leauthaud11, Zheng07"
     ],
     "language": "python",
     "metadata": {},
     "outputs": [],
     "prompt_number": 1
    },
    {
     "cell_type": "markdown",
     "metadata": {},
     "source": [
      "The above few imports are loading factory functions: these are functions that return instances of composite models. You can always retrieve an instance any of the preloaded models without any keywords, in which case default choices will be made for you:"
     ]
    },
    {
     "cell_type": "code",
     "collapsed": false,
     "input": [
      "aph = Hearin15()\n",
      "alexie = Leauthaud11()\n",
      "zheng = Zheng07()"
     ],
     "language": "python",
     "metadata": {},
     "outputs": [],
     "prompt_number": 2
    },
    {
     "cell_type": "markdown",
     "metadata": {},
     "source": [
      "The values for these defaults are located in the model_defaults module, so that you can always set your own defaults rather than use the ones that come with the package. The arguments you pass to these factory functions allow you to customize the model to your liking. Here's a simple example of how to change the stellar mass threshold of the sample being modeled:"
     ]
    },
    {
     "cell_type": "code",
     "collapsed": false,
     "input": [
      "model1 = Leauthaud11()\n",
      "model2 = Leauthaud11(threshold = 11)\n",
      "print(model1.threshold, model2.threshold)"
     ],
     "language": "python",
     "metadata": {},
     "outputs": [
      {
       "output_type": "stream",
       "stream": "stdout",
       "text": [
        "(10.5, 11)\n"
       ]
      }
     ],
     "prompt_number": 3
    },
    {
     "cell_type": "markdown",
     "metadata": {},
     "source": [
      "# Populating mocks"
     ]
    },
    {
     "cell_type": "markdown",
     "metadata": {},
     "source": [
      "All composite models come with some handy convenience functions:"
     ]
    },
    {
     "cell_type": "code",
     "collapsed": false,
     "input": [
      "zheng.populate_mock()"
     ],
     "language": "python",
     "metadata": {},
     "outputs": [],
     "prompt_number": 4
    },
    {
     "cell_type": "markdown",
     "metadata": {},
     "source": [
      "This function creates a `mock` attribute to the model instance. What's happening here is that the first call to the `populate_mock` function loads halo catalog into memory, binds it to the mock object, and then sprinkles in a Monte Carlo realization of galaxies into those halos. You can then access the halos and the galaxies like this:"
     ]
    },
    {
     "cell_type": "code",
     "collapsed": false,
     "input": [
      "print(zheng.mock.halo_table[0:4])"
     ],
     "language": "python",
     "metadata": {},
     "outputs": [
      {
       "output_type": "stream",
       "stream": "stdout",
       "text": [
        "halo_scale_factor  halo_id   halo_pid ... host_halo_status NFWmodel_conc\n",
        "----------------- ---------- -------- ... ---------------- -------------\n",
        "          1.00035 3060299107       -1 ...   true_host_halo       6.45778\n",
        "          1.00035 3060312953       -1 ...   true_host_halo       6.47875\n",
        "          1.00035 3058440575       -1 ...   true_host_halo       6.68856\n",
        "          1.00035 3058441456       -1 ...   true_host_halo       6.79585\n"
       ]
      }
     ],
     "prompt_number": 5
    },
    {
     "cell_type": "code",
     "collapsed": false,
     "input": [
      "print(zheng.mock.galaxy_table[0:4])"
     ],
     "language": "python",
     "metadata": {},
     "outputs": [
      {
       "output_type": "stream",
       "stream": "stdout",
       "text": [
        " halo_x  halo_y  halo_id    halo_z halo_vx ...    y       z     vx  vy  vz\n",
        "------- ------- ---------- ------- ------- ... ------- ------- --- --- ---\n",
        " 35.725 43.2765 3060299107  17.713   48.16 ... 43.2765  17.713 0.0 0.0 0.0\n",
        "45.2089 49.7075 3060312953 39.9112  -14.21 ... 49.7075 39.9112 0.0 0.0 0.0\n",
        " 21.812 13.8923 3058440575 9.54759   -4.75 ... 13.8923 9.54759 0.0 0.0 0.0\n",
        "26.1803 14.3142 3058441456 6.51834 -271.94 ... 14.3142 6.51834 0.0 0.0 0.0\n"
       ]
      }
     ],
     "prompt_number": 6
    },
    {
     "cell_type": "markdown",
     "metadata": {},
     "source": [
      "You can populate any halo catalog you have stored in your cache directory by passing keyword arguments to `populate_mock`:"
     ]
    },
    {
     "cell_type": "code",
     "collapsed": false,
     "input": [
      "zheng = Zheng07()\n",
      "zheng.populate_mock(simname = 'bolplanck', redshift=1) #Bolshoi simulation, but run with Planck13 cosmology"
     ],
     "language": "python",
     "metadata": {},
     "outputs": [],
     "prompt_number": 7
    },
    {
     "cell_type": "code",
     "collapsed": false,
     "input": [
      "print(zheng.mock.snapshot.redshift, zheng.mock.snapshot.simname)"
     ],
     "language": "python",
     "metadata": {},
     "outputs": [
      {
       "output_type": "stream",
       "stream": "stdout",
       "text": [
        "(0.99553001277139197, 'bolplanck')\n"
       ]
      }
     ],
     "prompt_number": 8
    },
    {
     "cell_type": "markdown",
     "metadata": {},
     "source": [
      "# Mock Observations"
     ]
    },
    {
     "cell_type": "markdown",
     "metadata": {},
     "source": [
      "Composite models also have convenience functions for computing two-point functions:"
     ]
    },
    {
     "cell_type": "code",
     "collapsed": false,
     "input": [
      "model = Zheng07()\n",
      "r, xi_gg = model.compute_galaxy_clustering()"
     ],
     "language": "python",
     "metadata": {},
     "outputs": [],
     "prompt_number": 9
    },
    {
     "cell_type": "code",
     "collapsed": false,
     "input": [
      "r, xi_gm = model.compute_galaxy_matter_cross_clustering(num_iterations = 2)"
     ],
     "language": "python",
     "metadata": {},
     "outputs": [],
     "prompt_number": 10
    },
    {
     "cell_type": "markdown",
     "metadata": {},
     "source": [
      "What the `compute_clustering` method does is populate a mock, compute the clustering of that mock, repeat that over and over again and return the median clustering in each separation bin. See the docstrings of these methods for a complete overview of their keyword arguments. Here's one option worthy of special mention:"
     ]
    },
    {
     "cell_type": "code",
     "collapsed": false,
     "input": [
      "r, xi_cc, xi_cs, xi_ss = model2.compute_galaxy_clustering(gal_type = 'centrals', include_crosscorr = True)"
     ],
     "language": "python",
     "metadata": {},
     "outputs": [],
     "prompt_number": 11
    },
    {
     "cell_type": "markdown",
     "metadata": {},
     "source": [
      "`xi_cc` is the central-central correlation function, `xi_cs` is the central-satellite cross-correlation, `xi_ss` is the satellite-satellite. "
     ]
    },
    {
     "cell_type": "markdown",
     "metadata": {},
     "source": [
      "## Inspecting your mock"
     ]
    },
    {
     "cell_type": "code",
     "collapsed": false,
     "input": [
      "satmask = model.mock.galaxy_table['gal_type'] == 'satellites'\n",
      "sats = model.mock.galaxy_table[satmask]\n",
      "cens = model.mock.galaxy_table[np.invert(satmask)]"
     ],
     "language": "python",
     "metadata": {},
     "outputs": [],
     "prompt_number": 12
    },
    {
     "cell_type": "code",
     "collapsed": false,
     "input": [
      "p = plt.hist(np.log10(cens['halo_mvir']), \n",
      "             bins = np.linspace(11, 15, 25), label='centrals', color='blue', normed=True)\n",
      "p = plt.hist(np.log10(sats['halo_mvir']), \n",
      "             bins = np.linspace(11, 15, 25), label='satellites', color='red', normed=True)\n",
      "plt.xlabel(r'${\\rm log}_{10}M_{\\rm vir}$', fontsize=20)\n",
      "plt.ylabel('PDF', fontsize=20)\n",
      "plt.legend(frameon=False)"
     ],
     "language": "python",
     "metadata": {},
     "outputs": [
      {
       "metadata": {},
       "output_type": "pyout",
       "prompt_number": 13,
       "text": [
        "<matplotlib.legend.Legend at 0x160668fd0>"
       ]
      },
      {
       "metadata": {},
       "output_type": "display_data",
       "png": "[encoded data removed]",
       "text": [
        "<matplotlib.figure.Figure at 0x11652bbd0>"
       ]
      }
     ],
     "prompt_number": 13
    },
    {
     "cell_type": "markdown",
     "metadata": {},
     "source": [
      "# Using the underlying analytical relations"
     ]
    },
    {
     "cell_type": "markdown",
     "metadata": {},
     "source": [
      "There are many analytical relations that are in the component model classes. The composite models sketched above just compose these components into a collective model. Here are a few examples of how to use these underlying analytical relations. "
     ]
    },
    {
     "cell_type": "markdown",
     "metadata": {},
     "source": [
      "### Computing the abundance of centrals"
     ]
    },
    {
     "cell_type": "markdown",
     "metadata": {},
     "source": [
      "Let's compute the mean number of central galaxies as a function of halo mass, for galaxy samples of two different luminosity thresholds:"
     ]
    },
    {
     "cell_type": "code",
     "collapsed": false,
     "input": [
      "npts = 1e5\n",
      "mass = np.logspace(11, 15, npts)\n",
      "ncen = model.mean_occupation_centrals(prim_haloprop = mass)\n",
      "\n",
      "model2 = Zheng07(threshold = -19)\n",
      "ncen2 = model2.mean_occupation_centrals(prim_haloprop = mass)\n"
     ],
     "language": "python",
     "metadata": {},
     "outputs": [],
     "prompt_number": 22
    },
    {
     "cell_type": "code",
     "collapsed": false,
     "input": [
      "plt.plot(mass, ncen, label=r'$M_{r} < -20$')\n",
      "plt.plot(mass, ncen2, label=r'$M_{r} < -19$')\n",
      "plt.loglog()\n",
      "plt.ylim(ymin = 1e-2, ymax=2)\n",
      "\n",
      "plt.xlabel(r'$M_{\\rm vir} [M_{\\odot}]$', fontsize=20)\n",
      "plt.ylabel(r'$\\langle N_{\\rm cen}\\rangle$', fontsize=20)\n",
      "plt.title('Central Occupation Statistics', fontsize=15)\n",
      "\n",
      "plt.legend(frameon=False, fontsize=20, loc=4)"
     ],
     "language": "python",
     "metadata": {},
     "outputs": [
      {
       "metadata": {},
       "output_type": "pyout",
       "prompt_number": 26,
       "text": [
        "<matplotlib.legend.Legend at 0x1139f0f90>"
       ]
      },
      {
       "metadata": {},
       "output_type": "display_data",
       "png": "[encoded data removed]",
       "text": [
        "<matplotlib.figure.Figure at 0x113d70a10>"
       ]
      }
     ],
     "prompt_number": 26
    },
    {
     "cell_type": "markdown",
     "metadata": {},
     "source": [
      "### Stellar-to-halo mass relation for centrals at different redshift"
     ]
    },
    {
     "cell_type": "markdown",
     "metadata": {},
     "source": [
      "What is the stellar mass of a central galaxy living in a given halo mass? How does this vary with redshift? We can use Peter Behroozi's abundance matching model to answer this."
     ]
    },
    {
     "cell_type": "code",
     "collapsed": false,
     "input": [
      "from halotools.empirical_models import Behroozi10SmHm\n",
      "beh = Behroozi10SmHm()"
     ],
     "language": "python",
     "metadata": {},
     "outputs": [],
     "prompt_number": 16
    },
    {
     "cell_type": "code",
     "collapsed": false,
     "input": [
      "sm0 = beh.mean_stellar_mass(prim_haloprop = mass, redshift=0)\n",
      "sm2 = beh.mean_stellar_mass(prim_haloprop = mass, redshift=2)"
     ],
     "language": "python",
     "metadata": {},
     "outputs": [],
     "prompt_number": 17
    },
    {
     "cell_type": "code",
     "collapsed": false,
     "input": [
      "plt.plot(mass, sm0, color='blue', label='z = 0')\n",
      "plt.plot(mass, sm2, color='red', label = 'z = 2')\n",
      "plt.loglog()\n",
      "\n",
      "plt.xlabel(r'$M_{\\rm vir} [M_{\\odot}]$', fontsize=20)\n",
      "plt.ylabel(r'$M_{\\ast} [M_{\\odot}]$', fontsize=20)\n",
      "plt.title('Stellar-to-halo mass relation', fontsize=15)\n",
      "\n",
      "plt.legend(frameon=False, loc=4, fontsize=20)"
     ],
     "language": "python",
     "metadata": {},
     "outputs": [
      {
       "metadata": {},
       "output_type": "pyout",
       "prompt_number": 18,
       "text": [
        "<matplotlib.legend.Legend at 0x11826bed0>"
       ]
      },
      {
       "metadata": {},
       "output_type": "display_data",
       "png": "[encoded data removed]",
       "text": [
        "<matplotlib.figure.Figure at 0x118e2f410>"
       ]
      }
     ],
     "prompt_number": 18
    },
    {
     "cell_type": "markdown",
     "metadata": {},
     "source": [
      "### What halo masses are occupied by centrals of known stellar mass?"
     ]
    },
    {
     "cell_type": "code",
     "collapsed": false,
     "input": [
      "print(beh.mean_log_halo_mass(log_stellar_mass = 10.1))\n",
      "print(beh.mean_log_halo_mass(log_stellar_mass = 10.1, redshift = 2))"
     ],
     "language": "python",
     "metadata": {},
     "outputs": [
      {
       "output_type": "stream",
       "stream": "stdout",
       "text": [
        "11.6158419222\n",
        "11.9539907315\n"
       ]
      }
     ],
     "prompt_number": 19
    },
    {
     "cell_type": "markdown",
     "metadata": {},
     "source": [
      "Or suppose you want a rough idea of the stellar mass pdf of centrals living in a halo of fixed mass at different redshifts:"
     ]
    },
    {
     "cell_type": "code",
     "collapsed": false,
     "input": [
      "mass = np.zeros(1e4) + 1e12\n",
      "sm0 = beh.mc_stellar_mass(prim_haloprop = mass, redshift = 0)\n",
      "sm3 = beh.mc_stellar_mass(prim_haloprop = mass, redshift = 3)"
     ],
     "language": "python",
     "metadata": {},
     "outputs": [],
     "prompt_number": 20
    },
    {
     "cell_type": "code",
     "collapsed": false,
     "input": [
      "p0 = plt.hist(np.log10(sm0), bins = np.linspace(9.5, 11.5, 100), \n",
      "              color='blue', normed=True, label='z = 0')\n",
      "p3 = plt.hist(np.log10(sm3), bins = np.linspace(9, 11.5, 100), \n",
      "              color='red', normed=True, label='z = 3')\n",
      "plt.legend(frameon=False, loc=2)\n",
      "\n",
      "plt.xlabel(r'$\\log_{10}M_{\\ast} [M_{\\odot}]$', fontsize=20)\n"
     ],
     "language": "python",
     "metadata": {},
     "outputs": [
      {
       "metadata": {},
       "output_type": "pyout",
       "prompt_number": 21,
       "text": [
        "<matplotlib.text.Text at 0x119d6ea50>"
       ]
      },
      {
       "metadata": {},
       "output_type": "display_data",
       "png": "[encoded data removed]",
       "text": [
        "<matplotlib.figure.Figure at 0x118fa2410>"
       ]
      }
     ],
     "prompt_number": 21
    },
    {
     "cell_type": "code",
     "collapsed": false,
     "input": [],
     "language": "python",
     "metadata": {},
     "outputs": [],
     "prompt_number": 21
    }
   ],
   "metadata": {}
  }
 ]
}