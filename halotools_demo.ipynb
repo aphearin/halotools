{
 "cells": [
  {
   "cell_type": "markdown",
   "metadata": {},
   "source": [
    "# Preparation for the demo\n",
    "\n",
    "In order to use this demo, you'll need to download a basic halo catalog. Details of setting up and working with halotools and the available catalogs can be found in the online getting started guide:\n",
    "\n",
    "http://halotools.readthedocs.org/en/master/getting_started.html\n",
    "\n",
    "For now, just download the initial halo catalog, which is all we will work with in this tutorial:\n",
    "\n",
    "`python scripts/download_initial_halocat.py`"
   ]
  },
  {
   "cell_type": "markdown",
   "metadata": {},
   "source": [
    "## Demo of a few basic Halotools calculations"
   ]
  },
  {
   "cell_type": "code",
   "execution_count": 2,
   "metadata": {
    "collapsed": false
   },
   "outputs": [
    {
     "ename": "ImportError",
     "evalue": "cannot import name model_helpers",
     "output_type": "error",
     "traceback": [
      "\u001b[0;31m---------------------------------------------------------------------------\u001b[0m",
      "\u001b[0;31mImportError\u001b[0m                               Traceback (most recent call last)",
      "\u001b[0;32m<ipython-input-2-2359f9d79c14>\u001b[0m in \u001b[0;36m<module>\u001b[0;34m()\u001b[0m\n\u001b[1;32m      1\u001b[0m \u001b[0mget_ipython\u001b[0m\u001b[0;34m(\u001b[0m\u001b[0;34m)\u001b[0m\u001b[0;34m.\u001b[0m\u001b[0mmagic\u001b[0m\u001b[0;34m(\u001b[0m\u001b[0;34mu'matplotlib inline'\u001b[0m\u001b[0;34m)\u001b[0m\u001b[0;34m\u001b[0m\u001b[0m\n\u001b[0;32m----> 2\u001b[0;31m \u001b[0;32mfrom\u001b[0m \u001b[0mhalotools\u001b[0m\u001b[0;34m.\u001b[0m\u001b[0mempirical_models\u001b[0m \u001b[0;32mimport\u001b[0m \u001b[0mHearin15\u001b[0m\u001b[0;34m,\u001b[0m \u001b[0mLeauthaud11\u001b[0m\u001b[0;34m,\u001b[0m \u001b[0mZheng07\u001b[0m\u001b[0;34m\u001b[0m\u001b[0m\n\u001b[0m",
      "\u001b[0;32m/Users/parejkoj/dev/halotools/halotools/empirical_models/__init__.py\u001b[0m in \u001b[0;36m<module>\u001b[0;34m()\u001b[0m\n\u001b[1;32m      5\u001b[0m \u001b[0;34m\u001b[0m\u001b[0m\n\u001b[1;32m      6\u001b[0m \u001b[0;32mfrom\u001b[0m \u001b[0;34m.\u001b[0m\u001b[0mmock_factories\u001b[0m \u001b[0;32mimport\u001b[0m \u001b[0;34m*\u001b[0m\u001b[0;34m\u001b[0m\u001b[0m\n\u001b[0;32m----> 7\u001b[0;31m \u001b[0;32mfrom\u001b[0m \u001b[0;34m.\u001b[0m\u001b[0mmodel_factories\u001b[0m \u001b[0;32mimport\u001b[0m \u001b[0;34m*\u001b[0m\u001b[0;34m\u001b[0m\u001b[0m\n\u001b[0m\u001b[1;32m      8\u001b[0m \u001b[0;32mfrom\u001b[0m \u001b[0;34m.\u001b[0m\u001b[0mpreloaded_models\u001b[0m \u001b[0;32mimport\u001b[0m \u001b[0;34m*\u001b[0m\u001b[0;34m\u001b[0m\u001b[0m\n\u001b[1;32m      9\u001b[0m \u001b[0;32mfrom\u001b[0m \u001b[0;34m.\u001b[0m\u001b[0mhod_components\u001b[0m \u001b[0;32mimport\u001b[0m \u001b[0;34m*\u001b[0m\u001b[0;34m\u001b[0m\u001b[0m\n",
      "\u001b[0;32m/Users/parejkoj/dev/halotools/halotools/empirical_models/model_factories.py\u001b[0m in \u001b[0;36m<module>\u001b[0;34m()\u001b[0m\n\u001b[1;32m     14\u001b[0m \u001b[0;32mfrom\u001b[0m \u001b[0mabc\u001b[0m \u001b[0;32mimport\u001b[0m \u001b[0mABCMeta\u001b[0m\u001b[0;34m,\u001b[0m \u001b[0mabstractmethod\u001b[0m\u001b[0;34m,\u001b[0m \u001b[0mabstractproperty\u001b[0m\u001b[0;34m\u001b[0m\u001b[0m\n\u001b[1;32m     15\u001b[0m \u001b[0;34m\u001b[0m\u001b[0m\n\u001b[0;32m---> 16\u001b[0;31m \u001b[0;32mfrom\u001b[0m \u001b[0;34m.\u001b[0m \u001b[0;32mimport\u001b[0m \u001b[0mmodel_helpers\u001b[0m \u001b[0;32mas\u001b[0m \u001b[0mmodel_helpers\u001b[0m\u001b[0;34m\u001b[0m\u001b[0m\n\u001b[0m\u001b[1;32m     17\u001b[0m \u001b[0;32mfrom\u001b[0m \u001b[0;34m.\u001b[0m \u001b[0;32mimport\u001b[0m \u001b[0mmodel_defaults\u001b[0m\u001b[0;34m\u001b[0m\u001b[0m\n\u001b[1;32m     18\u001b[0m \u001b[0;32mfrom\u001b[0m \u001b[0;34m.\u001b[0m \u001b[0;32mimport\u001b[0m \u001b[0mmock_factories\u001b[0m\u001b[0;34m\u001b[0m\u001b[0m\n",
      "\u001b[0;31mImportError\u001b[0m: cannot import name model_helpers"
     ]
    }
   ],
   "source": [
    "%matplotlib inline\n",
    "from halotools.empirical_models import Hearin15, Leauthaud11, Zheng07"
   ]
  },
  {
   "cell_type": "markdown",
   "metadata": {},
   "source": [
    "The above few imports are loading factory functions: these are functions that return instances of composite models. You can always retrieve an instance any of the preloaded models without any keywords, in which case default choices will be made for you:"
   ]
  },
  {
   "cell_type": "code",
   "execution_count": 2,
   "metadata": {
    "collapsed": false
   },
   "outputs": [
    {
     "ename": "NameError",
     "evalue": "name 'Hearin15' is not defined",
     "output_type": "error",
     "traceback": [
      "\u001b[0;31m---------------------------------------------------------------------------\u001b[0m",
      "\u001b[0;31mNameError\u001b[0m                                 Traceback (most recent call last)",
      "\u001b[0;32m<ipython-input-2-ec20ce983f7a>\u001b[0m in \u001b[0;36m<module>\u001b[0;34m()\u001b[0m\n\u001b[0;32m----> 1\u001b[0;31m \u001b[0maph\u001b[0m \u001b[0;34m=\u001b[0m \u001b[0mHearin15\u001b[0m\u001b[0;34m(\u001b[0m\u001b[0;34m)\u001b[0m\u001b[0;34m\u001b[0m\u001b[0m\n\u001b[0m\u001b[1;32m      2\u001b[0m \u001b[0malexie\u001b[0m \u001b[0;34m=\u001b[0m \u001b[0mLeauthaud11\u001b[0m\u001b[0;34m(\u001b[0m\u001b[0;34m)\u001b[0m\u001b[0;34m\u001b[0m\u001b[0m\n\u001b[1;32m      3\u001b[0m \u001b[0mzheng\u001b[0m \u001b[0;34m=\u001b[0m \u001b[0mZheng07\u001b[0m\u001b[0;34m(\u001b[0m\u001b[0;34m)\u001b[0m\u001b[0;34m\u001b[0m\u001b[0m\n",
      "\u001b[0;31mNameError\u001b[0m: name 'Hearin15' is not defined"
     ]
    }
   ],
   "source": [
    "aph = Hearin15()\n",
    "alexie = Leauthaud11()\n",
    "zheng = Zheng07()"
   ]
  },
  {
   "cell_type": "markdown",
   "metadata": {},
   "source": [
    "The values for these defaults are located in the model_defaults module, so that you can\n",
    "always set your own defaults rather than use the ones that come with the package. The arguments you pass to these factory functions allow you to customize the model to your liking. Here's a simple example of how to change the stellar mass threshold of the sample being modeled:"
   ]
  },
  {
   "cell_type": "code",
   "execution_count": 4,
   "metadata": {
    "collapsed": false
   },
   "outputs": [
    {
     "name": "stdout",
     "output_type": "stream",
     "text": [
      "(10.5, 11)\n"
     ]
    }
   ],
   "source": [
    "model1 = Leauthaud11()\n",
    "model2 = Leauthaud11(threshold = 11)\n",
    "print(model1.threshold, model2.threshold)"
   ]
  },
  {
   "cell_type": "markdown",
   "metadata": {},
   "source": [
    "# Populating mocks"
   ]
  },
  {
   "cell_type": "markdown",
   "metadata": {},
   "source": [
    "All composite models come with some handy convenience functions:"
   ]
  },
  {
   "cell_type": "code",
   "execution_count": 22,
   "metadata": {
    "collapsed": false
   },
   "outputs": [],
   "source": [
    "zheng.populate_mock()"
   ]
  },
  {
   "cell_type": "markdown",
   "metadata": {},
   "source": [
    "You can populate from any halo catalog you have stored in your cache directory by passing keyword arguments to `populate_mock`. This example will populate the same dark matter simulation as the default populate_mock call above."
   ]
  },
  {
   "cell_type": "code",
   "execution_count": 23,
   "metadata": {
    "collapsed": false
   },
   "outputs": [],
   "source": [
    "model = Zheng07()\n",
    "model.populate_mock(simname='bolshoi', redshift=0) #Bolshoi simulation"
   ]
  },
  {
   "cell_type": "markdown",
   "metadata": {},
   "source": [
    "This function creates a `mock` attribute to the model instance. What's happening here is that the first call to the `populate_mock` function loads halo catalog into memory, binds it to the mock object, and then sprinkles in a Monte Carlo realization of galaxies into those halos. You can then access the halos and the galaxies like this. Note that these two models have the same halos, but potentially different galaxies occupying those halos."
   ]
  },
  {
   "cell_type": "code",
   "execution_count": 20,
   "metadata": {
    "collapsed": false
   },
   "outputs": [
    {
     "name": "stdout",
     "output_type": "stream",
     "text": [
      "number of halos = 952883\n",
      "halo_scale_factor  halo_id   halo_pid ... host_halo_status NFWmodel_conc\n",
      "----------------- ---------- -------- ... ---------------- -------------\n",
      "          1.00035 3060299107       -1 ...   true_host_halo       6.45778\n",
      "          1.00035 3060312953       -1 ...   true_host_halo       6.47875\n",
      "          1.00035 3058440575       -1 ...   true_host_halo       6.68856\n",
      "          1.00035 3058441456       -1 ...   true_host_halo       6.79585\n",
      "number of halos = 952883\n",
      "halo_scale_factor  halo_id   halo_pid ... host_halo_status NFWmodel_conc\n",
      "----------------- ---------- -------- ... ---------------- -------------\n",
      "          1.00035 3060299107       -1 ...   true_host_halo       6.45778\n",
      "          1.00035 3060312953       -1 ...   true_host_halo       6.47875\n",
      "          1.00035 3058440575       -1 ...   true_host_halo       6.68856\n",
      "          1.00035 3058441456       -1 ...   true_host_halo       6.79585\n"
     ]
    }
   ],
   "source": [
    "print(\"number of halos = {}\".format(len(zheng.mock.halo_table)))\n",
    "print(zheng.mock.halo_table[0:4])\n",
    "print(\"number of halos = {}\".format(len(model.mock.halo_table)))\n",
    "print(model.mock.halo_table[0:4])"
   ]
  },
  {
   "cell_type": "code",
   "execution_count": 25,
   "metadata": {
    "collapsed": false
   },
   "outputs": [
    {
     "name": "stdout",
     "output_type": "stream",
     "text": [
      "number of galaxies = 74884\n",
      " halo_x  halo_y  halo_id    halo_z halo_vx ...    y       z     vx  vy  vz\n",
      "------- ------- ---------- ------- ------- ... ------- ------- --- --- ---\n",
      "248.689 234.745 3071546535 213.453   112.1 ...  234.77 213.473 0.0 0.0 0.0\n",
      "232.622 230.186 3071571627 221.085  607.64 ... 230.121 220.933 0.0 0.0 0.0\n",
      "246.379 246.242 3071546648 209.379   93.29 ... 246.268   209.3 0.0 0.0 0.0\n",
      "245.249 204.253 3071384052 247.484  342.13 ... 204.252 247.494 0.0 0.0 0.0\n",
      "number of galaxies = 74850\n",
      " halo_x  halo_y  halo_id    halo_z halo_vx ...    y       z     vx  vy  vz\n",
      "------- ------- ---------- ------- ------- ... ------- ------- --- --- ---\n",
      "220.673 243.957 3069979993 238.109  342.04 ... 243.966  238.09 0.0 0.0 0.0\n",
      "240.944 222.371 3071593689 245.267  327.09 ... 222.404 245.242 0.0 0.0 0.0\n",
      "244.186 230.861 3071546938 204.907  358.77 ... 230.863 204.919 0.0 0.0 0.0\n",
      "226.146 245.059 3071580809 227.928   41.71 ... 245.058 227.927 0.0 0.0 0.0\n"
     ]
    }
   ],
   "source": [
    "print(\"number of galaxies = {}\".format(len(zheng.mock.galaxy_table)))\n",
    "print(zheng.mock.galaxy_table[-4:])\n",
    "print(\"number of galaxies = {}\".format(len(model.mock.galaxy_table)))\n",
    "print(model.mock.galaxy_table[-4:])"
   ]
  },
  {
   "cell_type": "markdown",
   "metadata": {},
   "source": [
    "Note that the redshift of this snapshot that we downloaded may not be exactly 0 (or whichever snapshot you selected to download via scripts/download_alternate_halocats.py) because of the finite time steps of simulations. If you want to know the specific properties of the snapshot you are working with, you can query them directly:"
   ]
  },
  {
   "cell_type": "code",
   "execution_count": 13,
   "metadata": {
    "collapsed": false
   },
   "outputs": [
    {
     "name": "stdout",
     "output_type": "stream",
     "text": [
      "(-0.00034987754286008865, 'bolshoi')\n"
     ]
    }
   ],
   "source": [
    "print(zheng.mock.snapshot.redshift, zheng.mock.snapshot.simname)"
   ]
  },
  {
   "cell_type": "markdown",
   "metadata": {},
   "source": [
    "# Mock Observations"
   ]
  },
  {
   "cell_type": "markdown",
   "metadata": {},
   "source": [
    "Composite models also have convenience functions for computing two-point functions. If you have not yet populated the mock, it will be automatically populated with the default parameters as part of compute_galaxy_clustering()"
   ]
  },
  {
   "cell_type": "code",
   "execution_count": 26,
   "metadata": {
    "collapsed": false
   },
   "outputs": [],
   "source": [
    "model = Zheng07()\n",
    "r, xi_gg = model.compute_galaxy_clustering()"
   ]
  },
  {
   "cell_type": "code",
   "execution_count": 27,
   "metadata": {
    "collapsed": false
   },
   "outputs": [],
   "source": [
    "r, xi_gm = model.compute_galaxy_matter_cross_clustering(num_iterations = 2)"
   ]
  },
  {
   "cell_type": "markdown",
   "metadata": {},
   "source": [
    "What the `compute_clustering` method, with num_iterations>1, does is populate a mock, compute the clustering of that mock, repeat num_iterations times, and return the median clustering in each separation bin.\n",
    "\n",
    "As a convenience, you can specify a column name and a value to select a subpopulation. For example, we can calculate the central-cental auto-correlation function like so:"
   ]
  },
  {
   "cell_type": "code",
   "execution_count": null,
   "metadata": {
    "collapsed": true
   },
   "outputs": [],
   "source": [
    "r, xi_cc = model2.compute_galaxy_clustering(gal_type = 'centrals')"
   ]
  },
  {
   "cell_type": "markdown",
   "metadata": {},
   "source": [
    "Note that you can also provide your own mask array and/or masking function for more complicated selections.\n",
    "\n",
    "In addition, halotools can calculate the cross-correlation function of your subpopulation, its complement, and the auto-correlation of the complement via the `include_crosscorr` keyword:"
   ]
  },
  {
   "cell_type": "code",
   "execution_count": 28,
   "metadata": {
    "collapsed": false
   },
   "outputs": [],
   "source": [
    "r, xi_cc, xi_cs, xi_ss = model2.compute_galaxy_clustering(gal_type = 'centrals', include_crosscorr = True)"
   ]
  },
  {
   "cell_type": "markdown",
   "metadata": {},
   "source": [
    "where `xi_cc` is the central-central correlation function (as above), `xi_cs` is the central-satellite cross-correlation, `xi_ss` is the satellite-satellite correlation function.\n",
    "\n",
    "See the docstrings of these methods for a complete overview of their keyword arguments. "
   ]
  },
  {
   "cell_type": "code",
   "execution_count": null,
   "metadata": {
    "collapsed": true
   },
   "outputs": [],
   "source": [
    "from matplotlib.ticker import FuncFormatter\n",
    "# import seaborn as sns\n",
    "\n",
    "sns.set_context(\"notebook\", font_scale=1.5)\n",
    "sns.set_style(\"whitegrid\")"
   ]
  },
  {
   "cell_type": "code",
   "execution_count": 3,
   "metadata": {
    "collapsed": false
   },
   "outputs": [
    {
     "ename": "NameError",
     "evalue": "name 'r' is not defined",
     "output_type": "error",
     "traceback": [
      "\u001b[0;31m---------------------------------------------------------------------------\u001b[0m",
      "\u001b[0;31mNameError\u001b[0m                                 Traceback (most recent call last)",
      "\u001b[0;32m<ipython-input-3-6ff2f9fd0c6f>\u001b[0m in \u001b[0;36m<module>\u001b[0;34m()\u001b[0m\n\u001b[1;32m     10\u001b[0m \u001b[0mfig\u001b[0m \u001b[0;34m=\u001b[0m \u001b[0mplt\u001b[0m\u001b[0;34m.\u001b[0m\u001b[0mfigure\u001b[0m\u001b[0;34m(\u001b[0m\u001b[0;34m)\u001b[0m\u001b[0;34m\u001b[0m\u001b[0m\n\u001b[1;32m     11\u001b[0m \u001b[0max\u001b[0m \u001b[0;34m=\u001b[0m \u001b[0mfig\u001b[0m\u001b[0;34m.\u001b[0m\u001b[0madd_subplot\u001b[0m\u001b[0;34m(\u001b[0m\u001b[0;36m111\u001b[0m\u001b[0;34m)\u001b[0m\u001b[0;34m\u001b[0m\u001b[0m\n\u001b[0;32m---> 12\u001b[0;31m \u001b[0max\u001b[0m\u001b[0;34m.\u001b[0m\u001b[0mloglog\u001b[0m\u001b[0;34m(\u001b[0m\u001b[0mr\u001b[0m\u001b[0;34m,\u001b[0m\u001b[0mxi_gg\u001b[0m\u001b[0;34m,\u001b[0m\u001b[0mlabel\u001b[0m\u001b[0;34m=\u001b[0m\u001b[0;34m'gal-gal'\u001b[0m\u001b[0;34m)\u001b[0m\u001b[0;34m\u001b[0m\u001b[0m\n\u001b[0m\u001b[1;32m     13\u001b[0m \u001b[0max\u001b[0m\u001b[0;34m.\u001b[0m\u001b[0mloglog\u001b[0m\u001b[0;34m(\u001b[0m\u001b[0mr\u001b[0m\u001b[0;34m,\u001b[0m\u001b[0mxi_gm\u001b[0m\u001b[0;34m,\u001b[0m\u001b[0mlabel\u001b[0m\u001b[0;34m=\u001b[0m\u001b[0;34m'gal-matter'\u001b[0m\u001b[0;34m)\u001b[0m\u001b[0;34m\u001b[0m\u001b[0m\n\u001b[1;32m     14\u001b[0m \u001b[0max\u001b[0m\u001b[0;34m.\u001b[0m\u001b[0mloglog\u001b[0m\u001b[0;34m(\u001b[0m\u001b[0mr\u001b[0m\u001b[0;34m,\u001b[0m\u001b[0mxi_cc\u001b[0m\u001b[0;34m,\u001b[0m\u001b[0mlabel\u001b[0m\u001b[0;34m=\u001b[0m\u001b[0;34m'cen-cen'\u001b[0m\u001b[0;34m)\u001b[0m\u001b[0;34m\u001b[0m\u001b[0m\n",
      "\u001b[0;31mNameError\u001b[0m: name 'r' is not defined"
     ]
    },
    {
     "data": {
      "image/png": "[encoded data removed]",
      "text/plain": [
       "<matplotlib.figure.Figure at 0x10fabf890>"
      ]
     },
     "metadata": {},
     "output_type": "display_data"
    }
   ],
   "source": [
    "def format(x,pos):\n",
    "    \"\"\"Formatter for axes labels.\"\"\"\n",
    "    if x < 1:\n",
    "        return '%3.1f'%x\n",
    "    else:\n",
    "        return '%3.0f'%x\n",
    "#...\n",
    "\n",
    "xticks = (0.1,0.5,1,5,10,40)\n",
    "fig = plt.figure()\n",
    "ax = fig.add_subplot(111)\n",
    "ax.loglog(r,xi_gm,label='gal-matter')\n",
    "ax.loglog(r,xi_gg,label='gal-gal')\n",
    "ax.loglog(r,xi_cc,label='cen-cen')\n",
    "ax.loglog(r,xi_cs,label='cen-sat')\n",
    "ax.loglog(r,xi_ss,label='sat-sat')\n",
    "ax.set_xlim(.1,20)\n",
    "ax.set_xticks(xticks)\n",
    "formatter = FuncFormatter(format)\n",
    "ax.xaxis.set_major_formatter(formatter)\n",
    "\n",
    "plt.legend(loc='best')"
   ]
  },
  {
   "cell_type": "markdown",
   "metadata": {},
   "source": [
    "## Inspecting your mock"
   ]
  },
  {
   "cell_type": "code",
   "execution_count": 35,
   "metadata": {
    "collapsed": true
   },
   "outputs": [],
   "source": [
    "model.populate_mock(simname = 'bolshoi', redshift=0) #Bolshoi simulation, but run with Planck13 cosmology"
   ]
  },
  {
   "cell_type": "code",
   "execution_count": 33,
   "metadata": {
    "collapsed": false
   },
   "outputs": [
    {
     "name": "stdout",
     "output_type": "stream",
     "text": [
      "16953 57811\n"
     ]
    }
   ],
   "source": [
    "satmask = model.mock.galaxy_table['gal_type'] == 'satellites'\n",
    "sats = model.mock.galaxy_table[satmask]\n",
    "cens = model.mock.galaxy_table[np.invert(satmask)]\n",
    "print satmask.sum(),(~satmask).sum()"
   ]
  },
  {
   "cell_type": "code",
   "execution_count": 34,
   "metadata": {
    "collapsed": false
   },
   "outputs": [
    {
     "data": {
      "text/plain": [
       "<matplotlib.legend.Legend at 0x117327ad0>"
      ]
     },
     "execution_count": 34,
     "metadata": {},
     "output_type": "execute_result"
    },
    {
     "data": {
      "image/png": "[encoded data removed]",
      "text/plain": [
       "<matplotlib.figure.Figure at 0x114d470d0>"
      ]
     },
     "metadata": {},
     "output_type": "display_data"
    }
   ],
   "source": [
    "p = plt.hist(np.log10(cens['halo_mvir']), \n",
    "             bins = np.linspace(11, 15, 25), label='centrals', color='blue', normed=True)\n",
    "p = plt.hist(np.log10(sats['halo_mvir']), \n",
    "             bins = np.linspace(11, 15, 25), label='satellites', color='red', normed=True)\n",
    "plt.xlabel(r'${\\rm log}_{10}M_{\\rm vir}$', fontsize=20)\n",
    "plt.ylabel('PDF', fontsize=20)\n",
    "plt.legend(frameon=False)"
   ]
  },
  {
   "cell_type": "markdown",
   "metadata": {},
   "source": [
    "# Using the underlying analytical relations"
   ]
  },
  {
   "cell_type": "markdown",
   "metadata": {},
   "source": [
    "There are many analytical relations that are in the component model classes. The composite models sketched above just compose these components into a collective model. Here are a few examples of how to use these underlying analytical relations. "
   ]
  },
  {
   "cell_type": "markdown",
   "metadata": {},
   "source": [
    "### Computing the abundance of centrals"
   ]
  },
  {
   "cell_type": "markdown",
   "metadata": {},
   "source": [
    "Let's compute the mean number of central galaxies as a function of halo mass, for galaxy samples of two different luminosity thresholds:"
   ]
  },
  {
   "cell_type": "code",
   "execution_count": 50,
   "metadata": {
    "collapsed": false
   },
   "outputs": [],
   "source": [
    "npts = 1e5\n",
    "mass = np.logspace(11, 15, npts)\n",
    "ncen = model.mean_occupation_centrals(prim_haloprop = mass)\n",
    "\n",
    "model2 = Zheng07(threshold = -19)\n",
    "ncen2 = model2.mean_occupation_centrals(prim_haloprop = mass)\n"
   ]
  },
  {
   "cell_type": "code",
   "execution_count": 51,
   "metadata": {
    "collapsed": false
   },
   "outputs": [
    {
     "data": {
      "text/plain": [
       "<matplotlib.legend.Legend at 0x13176c310>"
      ]
     },
     "execution_count": 51,
     "metadata": {},
     "output_type": "execute_result"
    },
    {
     "data": {
      "image/png": "[encoded data removed]",
      "text/plain": [
       "<matplotlib.figure.Figure at 0x1144bb450>"
      ]
     },
     "metadata": {},
     "output_type": "display_data"
    }
   ],
   "source": [
    "plt.plot(mass, ncen, label=r'$M_{r} < -20$')\n",
    "plt.plot(mass, ncen2, label=r'$M_{r} < -19$')\n",
    "plt.loglog()\n",
    "plt.ylim(ymin = 1e-2, ymax=2)\n",
    "\n",
    "plt.xlabel(r'$M_{\\rm vir} [M_{\\odot}]$', fontsize=20)\n",
    "plt.ylabel(r'$\\langle N_{\\rm cen}\\rangle$', fontsize=20)\n",
    "plt.title('Central Occupation Statistics', fontsize=15)\n",
    "\n",
    "plt.legend(frameon=False, fontsize=20, loc=4)"
   ]
  },
  {
   "cell_type": "markdown",
   "metadata": {},
   "source": [
    "### Stellar-to-halo mass relation for centrals at different redshift"
   ]
  },
  {
   "cell_type": "markdown",
   "metadata": {},
   "source": [
    "What is the stellar mass of a central galaxy living in a given halo mass? How does this vary with redshift? We can use Peter Behroozi's abundance matching model to answer this."
   ]
  },
  {
   "cell_type": "code",
   "execution_count": 52,
   "metadata": {
    "collapsed": false
   },
   "outputs": [],
   "source": [
    "from halotools.empirical_models import Behroozi10SmHm\n",
    "beh = Behroozi10SmHm()"
   ]
  },
  {
   "cell_type": "code",
   "execution_count": 53,
   "metadata": {
    "collapsed": false
   },
   "outputs": [],
   "source": [
    "sm0 = beh.mean_stellar_mass(prim_haloprop = mass, redshift=0)\n",
    "sm2 = beh.mean_stellar_mass(prim_haloprop = mass, redshift=2)"
   ]
  },
  {
   "cell_type": "code",
   "execution_count": 54,
   "metadata": {
    "collapsed": false
   },
   "outputs": [
    {
     "data": {
      "text/plain": [
       "<matplotlib.legend.Legend at 0x15ab14a10>"
      ]
     },
     "execution_count": 54,
     "metadata": {},
     "output_type": "execute_result"
    },
    {
     "data": {
      "image/png": "[encoded data removed]",
      "text/plain": [
       "<matplotlib.figure.Figure at 0x13175dad0>"
      ]
     },
     "metadata": {},
     "output_type": "display_data"
    }
   ],
   "source": [
    "plt.plot(mass, sm0, color='blue', label='z = 0')\n",
    "plt.plot(mass, sm2, color='red', label = 'z = 2')\n",
    "plt.loglog()\n",
    "\n",
    "plt.xlabel(r'$M_{\\rm vir} [M_{\\odot}]$', fontsize=20)\n",
    "plt.ylabel(r'$M_{\\ast} [M_{\\odot}]$', fontsize=20)\n",
    "plt.title('Stellar-to-halo mass relation', fontsize=15)\n",
    "\n",
    "plt.legend(frameon=False, loc=4, fontsize=20)"
   ]
  },
  {
   "cell_type": "markdown",
   "metadata": {},
   "source": [
    "### What halo masses are occupied by centrals of known stellar mass?"
   ]
  },
  {
   "cell_type": "code",
   "execution_count": 55,
   "metadata": {
    "collapsed": false
   },
   "outputs": [
    {
     "name": "stdout",
     "output_type": "stream",
     "text": [
      "11.6158419222\n",
      "11.9539907315\n"
     ]
    }
   ],
   "source": [
    "print(beh.mean_log_halo_mass(log_stellar_mass = 10.1))\n",
    "print(beh.mean_log_halo_mass(log_stellar_mass = 10.1, redshift = 2))"
   ]
  },
  {
   "cell_type": "markdown",
   "metadata": {},
   "source": [
    "Or suppose you want a rough idea of the stellar mass pdf of centrals living in a halo of fixed mass at different redshifts:"
   ]
  },
  {
   "cell_type": "code",
   "execution_count": 56,
   "metadata": {
    "collapsed": false
   },
   "outputs": [
    {
     "name": "stderr",
     "output_type": "stream",
     "text": [
      "/Users/parejkoj/anaconda/lib/python2.7/site-packages/ipykernel/__main__.py:1: DeprecationWarning: using a non-integer number instead of an integer will result in an error in the future\n",
      "  if __name__ == '__main__':\n"
     ]
    }
   ],
   "source": [
    "mass = np.zeros(1e4) + 1e12\n",
    "sm0 = beh.mc_stellar_mass(prim_haloprop = mass, redshift = 0)\n",
    "sm3 = beh.mc_stellar_mass(prim_haloprop = mass, redshift = 3)"
   ]
  },
  {
   "cell_type": "code",
   "execution_count": 58,
   "metadata": {
    "collapsed": false
   },
   "outputs": [
    {
     "data": {
      "text/plain": [
       "<matplotlib.text.Text at 0x140605690>"
      ]
     },
     "execution_count": 58,
     "metadata": {},
     "output_type": "execute_result"
    },
    {
     "data": {
      "image/png": "[encoded data removed]",
      "text/plain": [
       "<matplotlib.figure.Figure at 0x116fc5c90>"
      ]
     },
     "metadata": {},
     "output_type": "display_data"
    }
   ],
   "source": [
    "p0 = plt.hist(np.log10(sm0), bins = np.linspace(9.5, 11.5, 100), \n",
    "              color='blue', normed=True, label='z = 0')\n",
    "p3 = plt.hist(np.log10(sm3), bins = np.linspace(9, 11.5, 100), \n",
    "              color='red', normed=True, label='z = 3')\n",
    "plt.legend(frameon=False, loc=2)\n",
    "\n",
    "plt.xlabel(r'$\\log_{10}M_{\\ast} [M_{\\odot}]$', fontsize=20)\n"
   ]
  },
  {
   "cell_type": "code",
   "execution_count": 21,
   "metadata": {
    "collapsed": false
   },
   "outputs": [],
   "source": []
  }
 ],
 "metadata": {
  "kernelspec": {
   "display_name": "Python 2",
   "language": "python",
   "name": "python2"
  },
  "language_info": {
   "codemirror_mode": {
    "name": "ipython",
    "version": 2
   },
   "file_extension": ".py",
   "mimetype": "text/x-python",
   "name": "python",
   "nbconvert_exporter": "python",
   "pygments_lexer": "ipython2",
   "version": "2.7.10"
  }
 },
 "nbformat": 4,
 "nbformat_minor": 0
}
