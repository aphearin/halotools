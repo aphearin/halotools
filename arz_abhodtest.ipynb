{
 "metadata": {
  "name": "",
  "signature": "sha256:7de71a0558a5b58d8221d6e0ba94e43f53acf29e1686b03c159fa0aa2669ca0e"
 },
 "nbformat": 3,
 "nbformat_minor": 0,
 "worksheets": [
  {
   "cells": [
    {
     "cell_type": "code",
     "collapsed": false,
     "input": [
      "from halotools.empirical_models import preloaded_models, hod_components\n",
      "z15 = preloaded_models.Zentner15()"
     ],
     "language": "python",
     "metadata": {},
     "outputs": [],
     "prompt_number": 1
    },
    {
     "cell_type": "markdown",
     "metadata": {},
     "source": [
      "The default choice for Zentner15 is to be based on the Leauthaud11 HOD. Let's have a look at what the parameters are:"
     ]
    },
    {
     "cell_type": "code",
     "collapsed": false,
     "input": [
      "print(z15.param_dict)"
     ],
     "language": "python",
     "metadata": {},
     "outputs": [
      {
       "output_type": "stream",
       "stream": "stdout",
       "text": [
        "{'frac_dNmax_centrals': 0.0, 'gamma11_centrals': 0.329, 'beta10_centrals': 1.376, 'n10_centrals': 0.0351, 'scatter_model_param1_centrals': 0.2, 'gamma10_centrals': 0.608, 'm11_centrals': 1.195, 'beta11_centrals': -0.826, 'm10_centrals': 11.59, 'ab_percentile_centrals': 0.5, 'n11_centrals': -0.0247}\n"
       ]
      }
     ],
     "prompt_number": 2
    },
    {
     "cell_type": "markdown",
     "metadata": {},
     "source": [
      "In case you prefer to work with Zheng Zheng's less fashionable model:"
     ]
    },
    {
     "cell_type": "code",
     "collapsed": false,
     "input": [
      "z15b = preloaded_models.Zentner15(baseline_central_hod_model = hod_components.Zheng07Cens)\n",
      "print(z15b.param_dict)"
     ],
     "language": "python",
     "metadata": {},
     "outputs": [
      {
       "output_type": "stream",
       "stream": "stdout",
       "text": [
        "{'frac_dNmax_centrals': 0.0, 'logMmin_centrals': 12.02, 'sigma_logM_centrals': 0.26, 'ab_percentile_centrals': 0.5}\n"
       ]
      }
     ],
     "prompt_number": 3
    },
    {
     "cell_type": "markdown",
     "metadata": {},
     "source": [
      "## Populating a mock"
     ]
    },
    {
     "cell_type": "code",
     "collapsed": false,
     "input": [
      "z15.populate_mock()"
     ],
     "language": "python",
     "metadata": {},
     "outputs": [
      {
       "output_type": "stream",
       "stream": "stdout",
       "text": [
        "Percentiles are assigned \n",
        " ***** \n",
        " ----- \n",
        "\n"
       ]
      }
     ],
     "prompt_number": 4
    },
    {
     "cell_type": "markdown",
     "metadata": {},
     "source": [
      "I've implemented the new_haloprop_func_dict mechanism. Note the presence of 'halo_mvir_bin_index' and 'halo_nfw_conc_percentile':"
     ]
    },
    {
     "cell_type": "code",
     "collapsed": false,
     "input": [
      "print z15.mock.halo_table.keys()"
     ],
     "language": "python",
     "metadata": {},
     "outputs": [
      {
       "output_type": "stream",
       "stream": "stdout",
       "text": [
        "['halo_scale_factor', 'halo_id', 'halo_pid', 'halo_upid', 'halo_phantom', 'halo_mvir', 'halo_rvir', 'halo_vrms', 'halo_scale_factor_lastmm', 'halo_vmax', 'halo_x', 'halo_y', 'halo_z', 'halo_vx', 'halo_vy', 'halo_vz', 'halo_jx', 'halo_jy', 'halo_jz', 'halo_spin', 'halo_id_tree_root', 'halo_rs_klypin', 'halo_xoff', 'halo_voff', 'halo_spin_bullock', 'halo_b_to_a', 'halo_c_to_a', 'halo_axisA_x', 'halo_axisA_y', 'halo_axisA_z', 'halo_t_by_u', 'halo_macc', 'halo_mpeak', 'halo_vacc', 'halo_vpeak', 'halo_halfmass_scale', 'halo_dmvir_dt_inst', 'halo_dmvir_dt_100myr', 'halo_dmvir_dt_tdyn', 'halo_scale_factor_mpeak', 'halo_scale_factor_lastacc', 'halo_scale_factor_firstacc', 'halo_mvir_firstacc', 'halo_vmax_firstacc', 'halo_vmax_mpeak', 'halo_nfw_conc', 'halo_hostid', 'host_halo_status', 'halo_mvir_bin_index', 'halo_nfw_conc_percentile']\n"
       ]
      }
     ],
     "prompt_number": 5
    },
    {
     "cell_type": "code",
     "collapsed": false,
     "input": [
      "print z15.mock.galaxy_table.keys()"
     ],
     "language": "python",
     "metadata": {},
     "outputs": [
      {
       "output_type": "stream",
       "stream": "stdout",
       "text": [
        "['halo_nfw_conc', 'halo_x', 'halo_y', 'halo_id', 'halo_z', 'halo_vx', 'halo_vy', 'halo_vz', 'halo_rvir', 'halo_mvir', 'halo_mvir_bin_index', 'halo_nfw_conc_percentile', 'gal_type', 'x', 'y', 'z', 'vx', 'vy', 'vz']\n"
       ]
      }
     ],
     "prompt_number": 6
    },
    {
     "cell_type": "markdown",
     "metadata": {},
     "source": [
      "## Calling the methods directly"
     ]
    },
    {
     "cell_type": "code",
     "collapsed": false,
     "input": [
      "from halotools.sim_manager import HaloCatalog\n",
      "halocat = HaloCatalog()"
     ],
     "language": "python",
     "metadata": {},
     "outputs": [],
     "prompt_number": 7
    },
    {
     "cell_type": "code",
     "collapsed": false,
     "input": [
      "mean_ncen = z15.mean_occupation_centrals(halo_table = halocat.halo_table)"
     ],
     "language": "python",
     "metadata": {},
     "outputs": [
      {
       "output_type": "stream",
       "stream": "stdout",
       "text": [
        " Secondary halo property percentiles not pre-computed, computing now.\n",
        "Percentiles are assigned \n",
        " ***** \n",
        " ----- \n"
       ]
      },
      {
       "output_type": "stream",
       "stream": "stdout",
       "text": [
        "\n"
       ]
      }
     ],
     "prompt_number": 8
    },
    {
     "cell_type": "markdown",
     "metadata": {},
     "source": [
      "Calling the method directly does **not** automatically create a new halo catalog key. Note the absence of 'halo_mvir_bin_index' and 'halo_nfw_conc_percentile': "
     ]
    },
    {
     "cell_type": "code",
     "collapsed": false,
     "input": [
      "print halocat.halo_table.keys()"
     ],
     "language": "python",
     "metadata": {},
     "outputs": [
      {
       "output_type": "stream",
       "stream": "stdout",
       "text": [
        "['halo_scale_factor', 'halo_id', 'halo_pid', 'halo_upid', 'halo_phantom', 'halo_mvir', 'halo_rvir', 'halo_vrms', 'halo_scale_factor_lastmm', 'halo_vmax', 'halo_x', 'halo_y', 'halo_z', 'halo_vx', 'halo_vy', 'halo_vz', 'halo_jx', 'halo_jy', 'halo_jz', 'halo_spin', 'halo_id_tree_root', 'halo_rs_klypin', 'halo_xoff', 'halo_voff', 'halo_spin_bullock', 'halo_b_to_a', 'halo_c_to_a', 'halo_axisA_x', 'halo_axisA_y', 'halo_axisA_z', 'halo_t_by_u', 'halo_macc', 'halo_mpeak', 'halo_vacc', 'halo_vpeak', 'halo_halfmass_scale', 'halo_dmvir_dt_inst', 'halo_dmvir_dt_100myr', 'halo_dmvir_dt_tdyn', 'halo_scale_factor_mpeak', 'halo_scale_factor_lastacc', 'halo_scale_factor_firstacc', 'halo_mvir_firstacc', 'halo_vmax_firstacc', 'halo_vmax_mpeak', 'halo_nfw_conc', 'halo_hostid', 'host_halo_status']\n"
       ]
      }
     ],
     "prompt_number": 9
    },
    {
     "cell_type": "markdown",
     "metadata": {},
     "source": [
      "If you want to create those columns outside of the mock-making context, you must add the columns manually by calling the relevant methods:"
     ]
    },
    {
     "cell_type": "code",
     "collapsed": false,
     "input": [
      "halocat.halo_table['halo_mvir_bin_index'] = z15.compute_massbins_centrals(halo_table=halocat.halo_table)\n",
      "halocat.halo_table['halo_nfw_conc_percentile'] = z15.compute_sec_haloprop_percentiles_centrals(halo_table=halocat.halo_table)"
     ],
     "language": "python",
     "metadata": {},
     "outputs": [
      {
       "output_type": "stream",
       "stream": "stdout",
       "text": [
        "Percentiles are assigned \n",
        " ***** \n",
        " ----- \n",
        "\n"
       ]
      }
     ],
     "prompt_number": 10
    },
    {
     "cell_type": "code",
     "collapsed": false,
     "input": [
      "print halocat.halo_table.keys()"
     ],
     "language": "python",
     "metadata": {},
     "outputs": [
      {
       "output_type": "stream",
       "stream": "stdout",
       "text": [
        "['halo_scale_factor', 'halo_id', 'halo_pid', 'halo_upid', 'halo_phantom', 'halo_mvir', 'halo_rvir', 'halo_vrms', 'halo_scale_factor_lastmm', 'halo_vmax', 'halo_x', 'halo_y', 'halo_z', 'halo_vx', 'halo_vy', 'halo_vz', 'halo_jx', 'halo_jy', 'halo_jz', 'halo_spin', 'halo_id_tree_root', 'halo_rs_klypin', 'halo_xoff', 'halo_voff', 'halo_spin_bullock', 'halo_b_to_a', 'halo_c_to_a', 'halo_axisA_x', 'halo_axisA_y', 'halo_axisA_z', 'halo_t_by_u', 'halo_macc', 'halo_mpeak', 'halo_vacc', 'halo_vpeak', 'halo_halfmass_scale', 'halo_dmvir_dt_inst', 'halo_dmvir_dt_100myr', 'halo_dmvir_dt_tdyn', 'halo_scale_factor_mpeak', 'halo_scale_factor_lastacc', 'halo_scale_factor_firstacc', 'halo_mvir_firstacc', 'halo_vmax_firstacc', 'halo_vmax_mpeak', 'halo_nfw_conc', 'halo_hostid', 'host_halo_status', 'halo_mvir_bin_index', 'halo_nfw_conc_percentile']\n"
       ]
      }
     ],
     "prompt_number": 11
    },
    {
     "cell_type": "markdown",
     "metadata": {},
     "source": [
      "## Behavior of the assembly bias"
     ]
    },
    {
     "cell_type": "code",
     "collapsed": false,
     "input": [
      "mean_ncen = z15.mean_occupation_centrals(halo_table = halocat.halo_table)"
     ],
     "language": "python",
     "metadata": {},
     "outputs": [],
     "prompt_number": 12
    },
    {
     "cell_type": "markdown",
     "metadata": {},
     "source": [
      "(Note how much faster the method runs now that we have pre-computed the percentiles)"
     ]
    },
    {
     "cell_type": "code",
     "collapsed": false,
     "input": [
      "mean_ncen_std = z15.standard_mean_occupation_centrals(halo_table = halocat.halo_table)"
     ],
     "language": "python",
     "metadata": {},
     "outputs": [],
     "prompt_number": 13
    },
    {
     "cell_type": "code",
     "collapsed": false,
     "input": [
      "np.all(mean_ncen == mean_ncen_std)"
     ],
     "language": "python",
     "metadata": {},
     "outputs": [
      {
       "metadata": {},
       "output_type": "pyout",
       "prompt_number": 14,
       "text": [
        "True"
       ]
      }
     ],
     "prompt_number": 14
    },
    {
     "cell_type": "markdown",
     "metadata": {},
     "source": [
      "Great, the frac_dNmax_centrals key of param_dict is zero, so our assembly biased occupations should be the same as the underlying HOD. \n",
      "\n",
      "Now let's verify that changes to param_dict propagate as expected. "
     ]
    },
    {
     "cell_type": "code",
     "collapsed": false,
     "input": [
      "z15.param_dict['frac_dNmax_centrals'] = 0.5\n",
      "mean_ncen = z15.mean_occupation_centrals(halo_table = halocat.halo_table)\n",
      "np.all(mean_ncen == mean_ncen_std)"
     ],
     "language": "python",
     "metadata": {},
     "outputs": [
      {
       "metadata": {},
       "output_type": "pyout",
       "prompt_number": 15,
       "text": [
        "False"
       ]
      }
     ],
     "prompt_number": 15
    },
    {
     "cell_type": "code",
     "collapsed": false,
     "input": [
      "mask = (halocat.halo_table['halo_mvir'] > 1.e12) & (halocat.halo_table['halo_mvir'] < 2.e12)\n",
      "galaxy_halos = halocat.halo_table[mask]\n",
      "print(len(galaxy_halos))"
     ],
     "language": "python",
     "metadata": {},
     "outputs": [
      {
       "output_type": "stream",
       "stream": "stdout",
       "text": [
        "29941\n"
       ]
      }
     ],
     "prompt_number": 16
    },
    {
     "cell_type": "code",
     "collapsed": false,
     "input": [
      "high_conc_mask = galaxy_halos['halo_nfw_conc_percentile'] > z15.param_dict['ab_percentile_centrals']\n",
      "high_conc_galaxy_halos = galaxy_halos[high_conc_mask]\n",
      "low_conc_galaxy_halos = galaxy_halos[np.invert(high_conc_mask)]"
     ],
     "language": "python",
     "metadata": {},
     "outputs": [],
     "prompt_number": 17
    },
    {
     "cell_type": "code",
     "collapsed": false,
     "input": [
      "mean_ncen_high_conc = z15.mean_occupation_centrals(halo_table = high_conc_galaxy_halos)\n",
      "mean_ncen_low_conc = z15.mean_occupation_centrals(halo_table = low_conc_galaxy_halos)\n"
     ],
     "language": "python",
     "metadata": {},
     "outputs": [],
     "prompt_number": 18
    },
    {
     "cell_type": "code",
     "collapsed": false,
     "input": [
      "print mean_ncen_high_conc.mean() / mean_ncen_low_conc.mean()"
     ],
     "language": "python",
     "metadata": {},
     "outputs": [
      {
       "output_type": "stream",
       "stream": "stdout",
       "text": [
        "0.658953329369\n"
       ]
      }
     ],
     "prompt_number": 19
    },
    {
     "cell_type": "markdown",
     "metadata": {},
     "source": [
      "Looks like assembly biased parameters propagate properly. "
     ]
    },
    {
     "cell_type": "markdown",
     "metadata": {},
     "source": [
      "## Behavior of the other model features "
     ]
    },
    {
     "cell_type": "code",
     "collapsed": false,
     "input": [
      "mean_ncen = z15.mean_occupation_centrals(halo_table = halocat.halo_table)"
     ],
     "language": "python",
     "metadata": {},
     "outputs": [],
     "prompt_number": 20
    },
    {
     "cell_type": "code",
     "collapsed": false,
     "input": [
      "z15.param_dict['n10_centrals'] *= 1.1\n",
      "mean_ncen2 = z15.mean_occupation_centrals(halo_table = halocat.halo_table)"
     ],
     "language": "python",
     "metadata": {},
     "outputs": [],
     "prompt_number": 21
    },
    {
     "cell_type": "code",
     "collapsed": false,
     "input": [
      "np.all(mean_ncen2 == mean_ncen)"
     ],
     "language": "python",
     "metadata": {},
     "outputs": [
      {
       "metadata": {},
       "output_type": "pyout",
       "prompt_number": 22,
       "text": [
        "False"
       ]
      }
     ],
     "prompt_number": 22
    },
    {
     "cell_type": "code",
     "collapsed": false,
     "input": [
      "print z15.param_dict['scatter_model_param1_centrals']"
     ],
     "language": "python",
     "metadata": {},
     "outputs": [
      {
       "output_type": "stream",
       "stream": "stdout",
       "text": [
        "0.2\n"
       ]
      }
     ],
     "prompt_number": 23
    },
    {
     "cell_type": "code",
     "collapsed": false,
     "input": [
      "mc_ncen = z15.mc_occupation_centrals(halo_table = galaxy_halos)\n",
      "mc_ncen_low_conc = z15.mc_occupation_centrals(halo_table = low_conc_galaxy_halos)\n",
      "print(np.std(mc_ncen), np.std(mc_ncen_low_conc))"
     ],
     "language": "python",
     "metadata": {},
     "outputs": [
      {
       "output_type": "stream",
       "stream": "stdout",
       "text": [
        "(0.41606164236269905, 0.31729130461654392)\n"
       ]
      }
     ],
     "prompt_number": 24
    },
    {
     "cell_type": "code",
     "collapsed": false,
     "input": [
      "z15.param_dict['scatter_model_param1_centrals'] *= 2"
     ],
     "language": "python",
     "metadata": {},
     "outputs": [],
     "prompt_number": 25
    },
    {
     "cell_type": "code",
     "collapsed": false,
     "input": [
      "mc_ncen = z15.mc_occupation_centrals(halo_table = galaxy_halos)\n",
      "mc_ncen_low_conc = z15.mc_occupation_centrals(halo_table = low_conc_galaxy_halos)\n",
      "print(np.std(mc_ncen), np.std(mc_ncen_low_conc))"
     ],
     "language": "python",
     "metadata": {},
     "outputs": [
      {
       "output_type": "stream",
       "stream": "stdout",
       "text": [
        "(0.47737364324380466, 0.3777276861978161)\n"
       ]
      }
     ],
     "prompt_number": 26
    },
    {
     "cell_type": "code",
     "collapsed": false,
     "input": [
      "print z15.param_dict['scatter_model_param1_centrals']"
     ],
     "language": "python",
     "metadata": {},
     "outputs": [
      {
       "output_type": "stream",
       "stream": "stdout",
       "text": [
        "0.4\n"
       ]
      }
     ],
     "prompt_number": 27
    },
    {
     "cell_type": "code",
     "collapsed": false,
     "input": [],
     "language": "python",
     "metadata": {},
     "outputs": [],
     "prompt_number": 27
    },
    {
     "cell_type": "code",
     "collapsed": false,
     "input": [],
     "language": "python",
     "metadata": {},
     "outputs": [],
     "prompt_number": 27
    },
    {
     "cell_type": "code",
     "collapsed": false,
     "input": [],
     "language": "python",
     "metadata": {},
     "outputs": [],
     "prompt_number": 27
    }
   ],
   "metadata": {}
  }
 ]
}