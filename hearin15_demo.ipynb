{
 "metadata": {
  "name": "",
  "signature": "sha256:05d34e4ab59fb791962502cc3ad14882e0b3d504007af21f369bf6d9e01a77cb"
 },
 "nbformat": 3,
 "nbformat_minor": 0,
 "worksheets": [
  {
   "cells": [
    {
     "cell_type": "markdown",
     "metadata": {},
     "source": [
      "## Demo of how to generate the abthy results"
     ]
    },
    {
     "cell_type": "code",
     "collapsed": false,
     "input": [
      "%matplotlib inline\n",
      "from halotools.empirical_models import Hearin15, Leauthaud11, Zheng07"
     ],
     "language": "python",
     "metadata": {},
     "outputs": [],
     "prompt_number": 1
    },
    {
     "cell_type": "markdown",
     "metadata": {},
     "source": [
      "The prebuilt composite models in Halotools can typically be built with a large number of bells and whistles. I'll demo the most important ones here, but see the docstrings for a comprehensive list. \n",
      "\n",
      "First, you can always retrieve an instance any of my preloaded models without any keywords, in which case default choices will be made for you:"
     ]
    },
    {
     "cell_type": "code",
     "collapsed": false,
     "input": [
      "aph = Hearin15()\n",
      "alexie = Leauthaud11()\n",
      "zheng = Zheng07()"
     ],
     "language": "python",
     "metadata": {},
     "outputs": [],
     "prompt_number": 2
    },
    {
     "cell_type": "markdown",
     "metadata": {},
     "source": [
      "The values for these defaults are located in the model_defaults module, so that you can always set your own defaults rather than use the ones that come with the package. \n",
      "\n",
      "The way my preloaded models work is that they are functions that return instances of composite models. The arguments you pass to these functions are in turn passed on as arguments of the constructors of the component model classes. For example, if you pass the *threshold* keyword, then this keyword will get passed on to each OccupationComponent in the composite model:"
     ]
    },
    {
     "cell_type": "code",
     "collapsed": false,
     "input": [
      "model1 = Leauthaud11()\n",
      "model2 = Leauthaud11(threshold = 11)\n",
      "print(model1.threshold, model2.threshold)"
     ],
     "language": "python",
     "metadata": {},
     "outputs": [
      {
       "output_type": "stream",
       "stream": "stdout",
       "text": [
        "(10.5, 11)\n"
       ]
      }
     ],
     "prompt_number": 3
    },
    {
     "cell_type": "markdown",
     "metadata": {},
     "source": [
      "All composite models come with some handy convenience functions:"
     ]
    },
    {
     "cell_type": "code",
     "collapsed": false,
     "input": [
      "zheng.populate_mock()"
     ],
     "language": "python",
     "metadata": {},
     "outputs": [],
     "prompt_number": 4
    },
    {
     "cell_type": "markdown",
     "metadata": {},
     "source": [
      "This function creates a `mock` attribute to the model instance. What's happening here is that the first call to the `populate_mock` function loads halo catalog into memory, binds it to the model, and then sprinkles in a Monte Carlo realization of galaxies into those halos. You can then access the halos and the galaxies like this:"
     ]
    },
    {
     "cell_type": "code",
     "collapsed": false,
     "input": [
      "print(zheng.mock.halo_table[0:4])"
     ],
     "language": "python",
     "metadata": {},
     "outputs": [
      {
       "output_type": "stream",
       "stream": "stdout",
       "text": [
        "halo_scale_factor  halo_id   halo_pid ... host_halo_status NFWmodel_conc\n",
        "----------------- ---------- -------- ... ---------------- -------------\n",
        "          1.00035 3060299107       -1 ...   true_host_halo       6.45778\n",
        "          1.00035 3060312953       -1 ...   true_host_halo       6.47875\n",
        "          1.00035 3058440575       -1 ...   true_host_halo       6.68856\n",
        "          1.00035 3058441456       -1 ...   true_host_halo       6.79585\n"
       ]
      }
     ],
     "prompt_number": 6
    },
    {
     "cell_type": "code",
     "collapsed": false,
     "input": [
      "print(zheng.mock.galaxy_table[0:4])"
     ],
     "language": "python",
     "metadata": {},
     "outputs": [
      {
       "output_type": "stream",
       "stream": "stdout",
       "text": [
        " halo_x  halo_y  halo_id    halo_z halo_vx ...    y       z     vx  vy  vz\n",
        "------- ------- ---------- ------- ------- ... ------- ------- --- --- ---\n",
        " 35.725 43.2765 3060299107  17.713   48.16 ... 43.2765  17.713 0.0 0.0 0.0\n",
        "45.2089 49.7075 3060312953 39.9112  -14.21 ... 49.7075 39.9112 0.0 0.0 0.0\n",
        " 21.812 13.8923 3058440575 9.54759   -4.75 ... 13.8923 9.54759 0.0 0.0 0.0\n",
        "26.1803 14.3142 3058441456 6.51834 -271.94 ... 14.3142 6.51834 0.0 0.0 0.0\n"
       ]
      }
     ],
     "prompt_number": 8
    },
    {
     "cell_type": "code",
     "collapsed": false,
     "input": [
      "zheng.populate_mock(simname='multidark')"
     ],
     "language": "python",
     "metadata": {},
     "outputs": [],
     "prompt_number": 9
    },
    {
     "cell_type": "code",
     "collapsed": false,
     "input": [
      "zheng.mock.snapshot.simname"
     ],
     "language": "python",
     "metadata": {},
     "outputs": [
      {
       "metadata": {},
       "output_type": "pyout",
       "prompt_number": 10,
       "text": [
        "'bolshoi'"
       ]
      }
     ],
     "prompt_number": 10
    },
    {
     "cell_type": "code",
     "collapsed": false,
     "input": [],
     "language": "python",
     "metadata": {},
     "outputs": [],
     "prompt_number": 7
    },
    {
     "cell_type": "code",
     "collapsed": false,
     "input": [],
     "language": "python",
     "metadata": {},
     "outputs": [],
     "prompt_number": 7
    },
    {
     "cell_type": "code",
     "collapsed": false,
     "input": [],
     "language": "python",
     "metadata": {},
     "outputs": [],
     "prompt_number": 7
    },
    {
     "cell_type": "code",
     "collapsed": false,
     "input": [],
     "language": "python",
     "metadata": {},
     "outputs": [],
     "prompt_number": 7
    },
    {
     "cell_type": "code",
     "collapsed": false,
     "input": [],
     "language": "python",
     "metadata": {},
     "outputs": [],
     "prompt_number": 7
    },
    {
     "cell_type": "code",
     "collapsed": false,
     "input": [],
     "language": "python",
     "metadata": {},
     "outputs": [],
     "prompt_number": 7
    },
    {
     "cell_type": "code",
     "collapsed": false,
     "input": [],
     "language": "python",
     "metadata": {},
     "outputs": [],
     "prompt_number": 7
    },
    {
     "cell_type": "code",
     "collapsed": false,
     "input": [],
     "language": "python",
     "metadata": {},
     "outputs": [],
     "prompt_number": 7
    },
    {
     "cell_type": "code",
     "collapsed": false,
     "input": [],
     "language": "python",
     "metadata": {},
     "outputs": [],
     "prompt_number": 7
    },
    {
     "cell_type": "code",
     "collapsed": false,
     "input": [
      "# baseline_model = Hearin15(central_assembias_strength = 0, \n",
      "#                           satellite_assembias_strength = 0)\n",
      "# assembias_model1 = Hearin15(central_assembias_strength = 1, \n",
      "#                           satellite_assembias_strength = 1)\n",
      "# assembias_model2 = Hearin15(central_assembias_strength = 1, \n",
      "#                           satellite_assembias_strength = -1)\n",
      "\n",
      "# r, xi_baseline = baseline_model.compute_galaxy_clustering()\n",
      "# r, xi_assembias1 = assembias_model1.compute_galaxy_clustering()\n",
      "# r, xi_assembias2 = assembias_model2.compute_galaxy_clustering()\n",
      "\n",
      "# fracdiff1 = (xi_assembias1 - xi_baseline)/xi_baseline\n",
      "# fracdiff2 = (xi_assembias2 - xi_baseline)/xi_baseline\n",
      "\n",
      "# plt.plot(r, fracdiff1, color='k')\n",
      "# plt.plot(r, fracdiff2, color='red')\n",
      "\n",
      "# plt.xscale('log')"
     ],
     "language": "python",
     "metadata": {},
     "outputs": [],
     "prompt_number": 7
    },
    {
     "cell_type": "code",
     "collapsed": false,
     "input": [],
     "language": "python",
     "metadata": {},
     "outputs": []
    }
   ],
   "metadata": {}
  }
 ]
}