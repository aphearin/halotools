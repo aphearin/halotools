{
 "metadata": {
  "name": "",
  "signature": "sha256:e6b1fade3ea0c5bbefd9562a7704d7c38cd4ea4b6a99f5bb11171479046b4068"
 },
 "nbformat": 3,
 "nbformat_minor": 0,
 "worksheets": [
  {
   "cells": [
    {
     "cell_type": "markdown",
     "metadata": {},
     "source": [
      "## Demo of how to generate the abthy results"
     ]
    },
    {
     "cell_type": "code",
     "collapsed": false,
     "input": [
      "%matplotlib inline\n",
      "from halotools.empirical_models import Hearin15, Leauthaud11, Zheng07"
     ],
     "language": "python",
     "metadata": {},
     "outputs": [],
     "prompt_number": 1
    },
    {
     "cell_type": "markdown",
     "metadata": {},
     "source": [
      "The prebuilt composite models in Halotools can typically be built with a large number of bells and whistles. I'll demo the most important ones here, but see the docstrings for a comprehensive list. \n",
      "\n",
      "First, you can always retrieve an instance any of my preloaded models without any keywords, in which case default choices will be made for you:"
     ]
    },
    {
     "cell_type": "code",
     "collapsed": false,
     "input": [
      "aph = Hearin15()\n",
      "alexie = Leauthaud11()\n",
      "zheng = Zheng07()"
     ],
     "language": "python",
     "metadata": {},
     "outputs": [],
     "prompt_number": 2
    },
    {
     "cell_type": "markdown",
     "metadata": {},
     "source": [
      "The values for these defaults are located in the model_defaults module, so that you can always set your own defaults rather than use the ones that come with the package. \n",
      "\n",
      "The way my preloaded models work is that they are functions that return instances of composite models. The arguments you pass to these functions are in turn passed on as arguments of the constructors of the component model classes. For example, if you pass the *threshold* keyword, then this keyword will get passed on to each OccupationComponent in the composite model:"
     ]
    },
    {
     "cell_type": "code",
     "collapsed": false,
     "input": [
      "model1 = Hearin15()\n",
      "model2 = Hearin15(threshold = 11)\n",
      "print(model1.threshold, model2.threshold)"
     ],
     "language": "python",
     "metadata": {},
     "outputs": [
      {
       "output_type": "stream",
       "stream": "stdout",
       "text": [
        "(10.5, 11)\n"
       ]
      }
     ],
     "prompt_number": 3
    },
    {
     "cell_type": "markdown",
     "metadata": {},
     "source": [
      "More on those keyword options later. First things first, here's how to use composite models to populate mocks and compute clustering and lensing:"
     ]
    },
    {
     "cell_type": "markdown",
     "metadata": {},
     "source": [
      "# Populating mocks"
     ]
    },
    {
     "cell_type": "markdown",
     "metadata": {},
     "source": [
      "All composite models come with some handy convenience functions:"
     ]
    },
    {
     "cell_type": "code",
     "collapsed": false,
     "input": [
      "zheng.populate_mock()"
     ],
     "language": "python",
     "metadata": {},
     "outputs": [],
     "prompt_number": 4
    },
    {
     "cell_type": "markdown",
     "metadata": {},
     "source": [
      "This function creates a `mock` attribute to the model instance. What's happening here is that the first call to the `populate_mock` function loads halo catalog into memory, binds it to the model, and then sprinkles in a Monte Carlo realization of galaxies into those halos. You can then access the halos and the galaxies like this:"
     ]
    },
    {
     "cell_type": "code",
     "collapsed": false,
     "input": [
      "print(zheng.mock.halo_table[0:4])"
     ],
     "language": "python",
     "metadata": {},
     "outputs": [
      {
       "output_type": "stream",
       "stream": "stdout",
       "text": [
        "halo_scale_factor  halo_id   halo_pid ... host_halo_status NFWmodel_conc\n",
        "----------------- ---------- -------- ... ---------------- -------------\n",
        "          1.00035 3060299107       -1 ...   true_host_halo       6.45778\n",
        "          1.00035 3060312953       -1 ...   true_host_halo       6.47875\n",
        "          1.00035 3058440575       -1 ...   true_host_halo       6.68856\n",
        "          1.00035 3058441456       -1 ...   true_host_halo       6.79585\n"
       ]
      }
     ],
     "prompt_number": 5
    },
    {
     "cell_type": "code",
     "collapsed": false,
     "input": [
      "print(zheng.mock.galaxy_table[0:4])"
     ],
     "language": "python",
     "metadata": {},
     "outputs": [
      {
       "output_type": "stream",
       "stream": "stdout",
       "text": [
        " halo_x  halo_y  halo_id    halo_z halo_vx ...    y       z     vx  vy  vz\n",
        "------- ------- ---------- ------- ------- ... ------- ------- --- --- ---\n",
        " 35.725 43.2765 3060299107  17.713   48.16 ... 43.2765  17.713 0.0 0.0 0.0\n",
        "45.2089 49.7075 3060312953 39.9112  -14.21 ... 49.7075 39.9112 0.0 0.0 0.0\n",
        " 21.812 13.8923 3058440575 9.54759   -4.75 ... 13.8923 9.54759 0.0 0.0 0.0\n",
        "26.1803 14.3142 3058441456 6.51834 -271.94 ... 14.3142 6.51834 0.0 0.0 0.0\n"
       ]
      }
     ],
     "prompt_number": 6
    },
    {
     "cell_type": "markdown",
     "metadata": {},
     "source": [
      "You can populate any halo catalog you have stored in your cache directory by passing keyword arguments to `populate_mock`:"
     ]
    },
    {
     "cell_type": "code",
     "collapsed": false,
     "input": [
      "alexie.populate_mock(simname = 'multidark', redshift = 1)"
     ],
     "language": "python",
     "metadata": {},
     "outputs": [
      {
       "ename": "HalotoolsError",
       "evalue": "Inconsistency between the model redshift = 0.00 and the snapshot redshift = 1.00",
       "output_type": "pyerr",
       "traceback": [
        "\u001b[0;31m---------------------------------------------------------------------------\u001b[0m\n\u001b[0;31mHalotoolsError\u001b[0m                            Traceback (most recent call last)",
        "\u001b[0;32m<ipython-input-7-912d4c26bab8>\u001b[0m in \u001b[0;36m<module>\u001b[0;34m()\u001b[0m\n\u001b[0;32m----> 1\u001b[0;31m \u001b[0malexie\u001b[0m\u001b[0;34m.\u001b[0m\u001b[0mpopulate_mock\u001b[0m\u001b[0;34m(\u001b[0m\u001b[0msimname\u001b[0m \u001b[0;34m=\u001b[0m \u001b[0;34m'multidark'\u001b[0m\u001b[0;34m,\u001b[0m \u001b[0mredshift\u001b[0m \u001b[0;34m=\u001b[0m \u001b[0;36m1\u001b[0m\u001b[0;34m)\u001b[0m\u001b[0;34m\u001b[0m\u001b[0m\n\u001b[0m",
        "\u001b[0;32m/Users/aphearin/work/repositories/python/halotools/halotools/empirical_models/model_factories.pyc\u001b[0m in \u001b[0;36mpopulate_mock\u001b[0;34m(self, **kwargs)\u001b[0m\n\u001b[1;32m    142\u001b[0m                 \u001b[0;32mif\u001b[0m \u001b[0mabs\u001b[0m\u001b[0;34m(\u001b[0m\u001b[0mself\u001b[0m\u001b[0;34m.\u001b[0m\u001b[0mredshift\u001b[0m \u001b[0;34m-\u001b[0m \u001b[0msnapshot\u001b[0m\u001b[0;34m.\u001b[0m\u001b[0mredshift\u001b[0m\u001b[0;34m)\u001b[0m \u001b[0;34m>\u001b[0m \u001b[0;36m0.05\u001b[0m\u001b[0;34m:\u001b[0m\u001b[0;34m\u001b[0m\u001b[0m\n\u001b[1;32m    143\u001b[0m                     raise HalotoolsError(\"Inconsistency between the model redshift = %.2f\" \n\u001b[0;32m--> 144\u001b[0;31m                         \" and the snapshot redshift = %.2f\" % (self.redshift, snapshot.redshift))\n\u001b[0m\u001b[1;32m    145\u001b[0m \u001b[0;34m\u001b[0m\u001b[0m\n\u001b[1;32m    146\u001b[0m             \u001b[0mmock_factory\u001b[0m \u001b[0;34m=\u001b[0m \u001b[0mself\u001b[0m\u001b[0;34m.\u001b[0m\u001b[0mmodel_blueprint\u001b[0m\u001b[0;34m[\u001b[0m\u001b[0;34m'mock_factory'\u001b[0m\u001b[0;34m]\u001b[0m\u001b[0;34m\u001b[0m\u001b[0m\n",
        "\u001b[0;31mHalotoolsError\u001b[0m: Inconsistency between the model redshift = 0.00 and the snapshot redshift = 1.00"
       ]
      }
     ],
     "prompt_number": 7
    },
    {
     "cell_type": "markdown",
     "metadata": {},
     "source": [
      "In practice, this particular feature of the branch I have made for you is buggy, as shown by the above error; the reason for this is because I started this branch from an older version of the code, there are numerous changes in the master branch that I'd rather not port over here, so just stick with redshift-zero results for Bolshoi until I'm able to update the master branch. "
     ]
    },
    {
     "cell_type": "code",
     "collapsed": false,
     "input": [
      "alexie.populate_mock(simname = 'bolshoi', redshift = 0)"
     ],
     "language": "python",
     "metadata": {},
     "outputs": [],
     "prompt_number": 8
    },
    {
     "cell_type": "markdown",
     "metadata": {},
     "source": [
      "# Mock Observations"
     ]
    },
    {
     "cell_type": "markdown",
     "metadata": {},
     "source": [
      "Composite models also have convenience functions for computing two-point functions:"
     ]
    },
    {
     "cell_type": "code",
     "collapsed": false,
     "input": [
      "r, xi_gg = model2.compute_galaxy_clustering()"
     ],
     "language": "python",
     "metadata": {},
     "outputs": [],
     "prompt_number": 9
    },
    {
     "cell_type": "code",
     "collapsed": false,
     "input": [
      "r, xi_gm = model2.compute_galaxy_matter_cross_clustering(num_iterations = 2)"
     ],
     "language": "python",
     "metadata": {},
     "outputs": [],
     "prompt_number": 10
    },
    {
     "cell_type": "markdown",
     "metadata": {},
     "source": [
      "What the `compute_clustering` method does is populate a mock, compute the clustering of that mock, repeat that over and over again and return the median clustering in each separation bin. See the docstrings of these methods for a complete overview of their keyword arguments. Here's one option worthy of special mention:"
     ]
    },
    {
     "cell_type": "code",
     "collapsed": false,
     "input": [
      "r, xi_cc, xi_cs, xi_ss = model2.compute_galaxy_clustering(gal_type = 'centrals', include_crosscorr = True)"
     ],
     "language": "python",
     "metadata": {},
     "outputs": [],
     "prompt_number": 11
    },
    {
     "cell_type": "markdown",
     "metadata": {},
     "source": [
      "`xi_cc` is the central-central correlation function, `xi_cs` is the central-satellite cross-correlation, `xi_ss` is the satellite-satellite. "
     ]
    },
    {
     "cell_type": "markdown",
     "metadata": {},
     "source": [
      "# abthy results"
     ]
    },
    {
     "cell_type": "markdown",
     "metadata": {},
     "source": [
      "### Strength of assembly bias"
     ]
    },
    {
     "cell_type": "code",
     "collapsed": false,
     "input": [
      "baseline_model = Hearin15(central_assembias_strength = 0, \n",
      "                          satellite_assembias_strength = 0)\n",
      "assembias_model1 = Hearin15(central_assembias_strength = 1, \n",
      "                          satellite_assembias_strength = 1)\n",
      "assembias_model2 = Hearin15(central_assembias_strength = 1, \n",
      "                          satellite_assembias_strength = -1)\n",
      "assembias_model3 = Hearin15(central_assembias_strength = 0, \n",
      "                          satellite_assembias_strength = -1)\n",
      "assembias_model4 = Hearin15(central_assembias_strength = 0.5, \n",
      "                          satellite_assembias_strength = -0.5)"
     ],
     "language": "python",
     "metadata": {},
     "outputs": [],
     "prompt_number": 12
    },
    {
     "cell_type": "markdown",
     "metadata": {},
     "source": [
      "The default scatter is 0.2, but let's change that:"
     ]
    },
    {
     "cell_type": "code",
     "collapsed": false,
     "input": [
      "baseline_model.param_dict['scatter_model_param1'] = 0.8\n",
      "assembias_model1.param_dict['scatter_model_param1'] = 0.8\n",
      "assembias_model2.param_dict['scatter_model_param1'] = 0.8\n",
      "assembias_model3.param_dict['scatter_model_param1'] = 0.8\n",
      "assembias_model4.param_dict['scatter_model_param1'] = 0.8"
     ],
     "language": "python",
     "metadata": {},
     "outputs": [],
     "prompt_number": 13
    },
    {
     "cell_type": "code",
     "collapsed": false,
     "input": [
      "r, xi_baseline = baseline_model.compute_galaxy_clustering()\n",
      "r, xi_assembias1 = assembias_model1.compute_galaxy_clustering()\n",
      "r, xi_assembias2 = assembias_model2.compute_galaxy_clustering()\n",
      "r, xi_assembias3 = assembias_model3.compute_galaxy_clustering()\n",
      "r, xi_assembias4 = assembias_model4.compute_galaxy_clustering()\n",
      "\n",
      "fracdiff1 = (xi_assembias1 - xi_baseline)/xi_baseline\n",
      "fracdiff2 = (xi_assembias2 - xi_baseline)/xi_baseline\n",
      "fracdiff3 = (xi_assembias3 - xi_baseline)/xi_baseline\n",
      "fracdiff4 = (xi_assembias4 - xi_baseline)/xi_baseline"
     ],
     "language": "python",
     "metadata": {},
     "outputs": [],
     "prompt_number": 14
    },
    {
     "cell_type": "code",
     "collapsed": false,
     "input": [
      "from matplotlib import lines as mlines \n",
      "\n",
      "fig2 = plt.figure()\n",
      "ax = fig2.add_subplot(111)\n",
      "\n",
      "xlabel = ax.set_xlabel('R [Mpc]', fontsize=20)\n",
      "ylabel = ax.set_ylabel(r'$\\Delta\\xi_{\\rm gg} / \\xi_{\\rm gg}$', fontsize=25)\n",
      "title = ax.set_title(r'$M_{\\ast} > 10^{10.5} M_{\\odot}$', fontsize=25)\n",
      "\n",
      "ax.plot(r, fracdiff1, '-', color='green', linewidth=2)\n",
      "ax.plot(r, fracdiff2, '--', color='orange', linewidth=2)\n",
      "ax.plot(r, fracdiff3, '-.', color='magenta', linewidth=2)\n",
      "ax.plot(r, fracdiff4, '-', color='blue', linewidth=2)\n",
      "\n",
      "ax.plot(np.logspace(-2, 2, 100), np.zeros(100), color='gray')\n",
      "\n",
      "plt.xscale('log')\n",
      "plt.xticks(fontsize=20)\n",
      "plt.yticks(fontsize=20)\n",
      "plt.xlim(xmin = 0.1, xmax=15)\n",
      "plt.ylim(ymin = -1, ymax = 1)\n",
      "\n",
      "# Here's some useful matplotlib syntax for how to have multiple legends\n",
      "# I find this awkward and \"un-pythonic\", but that's matplotlib for you\n",
      "solid_line = mlines.Line2D([], [], ls = '-', c = 'green', linewidth=3, \n",
      "                           label = r'$|\\mathcal{A}_{\\rm bias}^{\\rm cens, sats}| = 1, 1$')\n",
      "dashed_line = mlines.Line2D([], [], ls = '--', c = 'orange', linewidth=3, \n",
      "                           label = r'$|\\mathcal{A}_{\\rm bias}^{\\rm cens, sats}| = 1, -1$')\n",
      "dot_dashed_line = mlines.Line2D([], [], ls = '-.', c = 'magenta', linewidth=3, \n",
      "                           label = r'$|\\mathcal{A}_{\\rm bias}^{\\rm cens, sats}| = 0, -1$')\n",
      "blue_line = mlines.Line2D([], [], ls = '-', c = 'blue', linewidth=3, \n",
      "                           label = r'$|\\mathcal{A}_{\\rm bias}^{\\rm cens, sats}| = 0.5, -0.5$')\n",
      "\n",
      "first_legend = plt.legend(handles=[dot_dashed_line, blue_line], \n",
      "                          frameon=False, loc=1, fontsize=17)\n",
      "ax.add_artist(first_legend)\n",
      "second_legend = plt.legend(handles=[solid_line, dashed_line], \n",
      "                          frameon=False, loc=3, fontsize=17)\n",
      "ax.add_artist(second_legend)\n",
      "\n",
      "# Here's a trick so that your axis labels don't get cut off in the saved pdf:\n",
      "fig2.savefig('dummy_fig.pdf', \n",
      "             bbox_extra_artists=[xlabel, ylabel], bbox_inches='tight')"
     ],
     "language": "python",
     "metadata": {},
     "outputs": [
      {
       "metadata": {},
       "output_type": "display_data",
       "png": "[encoded data removed]",
       "text": [
        "<matplotlib.figure.Figure at 0x207b4add0>"
       ]
      }
     ],
     "prompt_number": 15
    },
    {
     "cell_type": "markdown",
     "metadata": {},
     "source": [
      "### Where's that large-scale effect for satellites?"
     ]
    },
    {
     "cell_type": "markdown",
     "metadata": {},
     "source": [
      "Ok, so a while back you asked me why satellite assembly bias appears to have zero impact on large scales; here we're seeing that as the magenta line approaching zero on scales bigger than a few Mpc. I think the histogram below more or less answers that question, and kills two birds with one stone by illustrating how to do simple inspections of a mock:"
     ]
    },
    {
     "cell_type": "code",
     "collapsed": false,
     "input": [
      "satmask = baseline_model.mock.galaxy_table['gal_type'] == 'satellites'\n",
      "sats = baseline_model.mock.galaxy_table[satmask]\n",
      "cens = baseline_model.mock.galaxy_table[np.invert(satmask)]"
     ],
     "language": "python",
     "metadata": {},
     "outputs": [],
     "prompt_number": 16
    },
    {
     "cell_type": "code",
     "collapsed": false,
     "input": [
      "p = plt.hist(np.log10(cens['halo_mvir']), \n",
      "             bins = np.linspace(11, 15, 25), label='centrals', color='blue', normed=True)\n",
      "p = plt.hist(np.log10(sats['halo_mvir']), \n",
      "             bins = np.linspace(11, 15, 25), label='satellites', color='red', normed=True)\n",
      "plt.xlabel(r'${\\rm log}_{10}M_{\\rm vir}$', fontsize=20)\n",
      "plt.ylabel('PDF', fontsize=20)\n",
      "plt.legend(frameon=False)"
     ],
     "language": "python",
     "metadata": {},
     "outputs": [
      {
       "metadata": {},
       "output_type": "pyout",
       "prompt_number": 21,
       "text": [
        "<matplotlib.legend.Legend at 0x2a09496d0>"
       ]
      },
      {
       "metadata": {},
       "output_type": "display_data",
       "png": "[encoded data removed]",
       "text": [
        "<matplotlib.figure.Figure at 0x22e8bfc10>"
       ]
      }
     ],
     "prompt_number": 21
    },
    {
     "cell_type": "markdown",
     "metadata": {},
     "source": [
      "### Alternative model options"
     ]
    },
    {
     "cell_type": "code",
     "collapsed": false,
     "input": [
      "assembias_model5 = Hearin15(central_assembias_strength = 0.5, \n",
      "                          satellite_assembias_strength = 0.2, \n",
      "                          sec_haloprop_key = 'halo_dmvir_dt_tdyn', \n",
      "                          split = 0.4)\n",
      "assembias_model6 = Hearin15(central_assembias_strength = 0.5, \n",
      "                          satellite_assembias_strength = 0.2, \n",
      "                          sec_haloprop_key = 'halo_dmvir_dt_tdyn', \n",
      "                          split = 0.5)\n",
      "assembias_model7 = Hearin15(central_assembias_strength = 0.5, \n",
      "                          satellite_assembias_strength = 0.2, \n",
      "                          sec_haloprop_key = 'halo_dmvir_dt_tdyn', \n",
      "                          split = 0.6)\n",
      "assembias_model8 = Hearin15(central_assembias_strength = 0.5, \n",
      "                          satellite_assembias_strength = 0.2, \n",
      "                          sec_haloprop_key = 'halo_dmvir_dt_tdyn', \n",
      "                          split = 0.7)\n",
      "\n",
      "assembias_model5.param_dict['scatter_model_param1'] = 0.8\n",
      "assembias_model6.param_dict['scatter_model_param1'] = 0.8\n",
      "assembias_model7.param_dict['scatter_model_param1'] = 0.8\n",
      "assembias_model8.param_dict['scatter_model_param1'] = 0.8\n"
     ],
     "language": "python",
     "metadata": {},
     "outputs": [],
     "prompt_number": 22
    },
    {
     "cell_type": "code",
     "collapsed": false,
     "input": [
      "r, xi_assembias5 = assembias_model5.compute_galaxy_clustering()\n",
      "r, xi_assembias6 = assembias_model6.compute_galaxy_clustering()\n",
      "r, xi_assembias7 = assembias_model7.compute_galaxy_clustering()\n",
      "r, xi_assembias8 = assembias_model8.compute_galaxy_clustering()\n",
      "\n",
      "fracdiff5 = (xi_assembias5 - xi_baseline)/xi_baseline\n",
      "fracdiff6 = (xi_assembias6 - xi_baseline)/xi_baseline\n",
      "fracdiff7 = (xi_assembias7 - xi_baseline)/xi_baseline\n",
      "fracdiff8 = (xi_assembias8 - xi_baseline)/xi_baseline\n"
     ],
     "language": "python",
     "metadata": {},
     "outputs": [],
     "prompt_number": 23
    },
    {
     "cell_type": "code",
     "collapsed": false,
     "input": [
      "plt.plot(r, fracdiff5, color='red', label='40/60 split')\n",
      "plt.plot(r, fracdiff6, color='k', label='50/50 split')\n",
      "plt.plot(r, fracdiff7, color='blue', label='60/40 split')\n",
      "plt.plot(r, fracdiff8, color='green', label='70/30 split')\n",
      "\n",
      "plt.xscale('log')\n",
      "plt.xticks(fontsize=20)\n",
      "plt.yticks(fontsize=20)\n",
      "plt.xlim(xmin = 0.1, xmax=15)\n",
      "plt.ylim(ymin = -0.25, ymax = 1)\n",
      "\n",
      "plt.xlabel('R [Mpc]', fontsize=20)\n",
      "plt.ylabel(r'$\\Delta\\xi_{\\rm gg} / \\xi_{\\rm gg}$', fontsize=25)\n",
      "plt.title(r'$M_{\\ast} > 10^{10.5} M_{\\odot}$', fontsize=25)\n",
      "\n",
      "plt.legend()\n"
     ],
     "language": "python",
     "metadata": {},
     "outputs": [
      {
       "metadata": {},
       "output_type": "pyout",
       "prompt_number": 25,
       "text": [
        "<matplotlib.legend.Legend at 0x293321690>"
       ]
      },
      {
       "metadata": {},
       "output_type": "display_data",
       "png": "[encoded data removed]",
       "text": [
        "<matplotlib.figure.Figure at 0x291ea8f50>"
       ]
      }
     ],
     "prompt_number": 25
    },
    {
     "cell_type": "markdown",
     "metadata": {},
     "source": [
      "Well that doesn't seem right, does it? Looks like there's some problem with the `split` keyword. Ahh, well, work in progress. "
     ]
    },
    {
     "cell_type": "code",
     "collapsed": false,
     "input": [],
     "language": "python",
     "metadata": {},
     "outputs": [],
     "prompt_number": 24
    },
    {
     "cell_type": "code",
     "collapsed": false,
     "input": [],
     "language": "python",
     "metadata": {},
     "outputs": [],
     "prompt_number": 24
    },
    {
     "cell_type": "code",
     "collapsed": false,
     "input": [],
     "language": "python",
     "metadata": {},
     "outputs": [],
     "prompt_number": 24
    }
   ],
   "metadata": {}
  }
 ]
}