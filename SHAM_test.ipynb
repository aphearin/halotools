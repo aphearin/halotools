{
 "cells": [
  {
   "cell_type": "code",
   "execution_count": 1,
   "metadata": {
    "collapsed": false
   },
   "outputs": [],
   "source": [
    "from halotools.empirical_models import abundance_matching\n",
    "from halotools import sim_manager\n",
    "import numpy as np\n",
    "import matplotlib.pyplot as plt\n",
    "%matplotlib inline  "
   ]
  },
  {
   "cell_type": "code",
   "execution_count": 2,
   "metadata": {
    "collapsed": false
   },
   "outputs": [],
   "source": [
    "#load halo catalogue\n",
    "default_halocat = sim_manager.CachedHaloCatalog() \n",
    "halo_table = default_halocat.halo_table"
   ]
  },
  {
   "cell_type": "code",
   "execution_count": 3,
   "metadata": {
    "collapsed": false
   },
   "outputs": [
    {
     "data": {
      "text/plain": [
       "array([  1.64299998e+14,   1.58899999e+14,   1.14400002e+14, ...,\n",
       "         4.06199992e+10,   4.06199992e+10,   4.06199992e+10], dtype=float32)"
      ]
     },
     "execution_count": 3,
     "metadata": {},
     "output_type": "execute_result"
    }
   ],
   "source": [
    "np.array(halo_table['halo_mvir'])"
   ]
  },
  {
   "cell_type": "code",
   "execution_count": 4,
   "metadata": {
    "collapsed": false
   },
   "outputs": [],
   "source": [
    "#define schecter function\n",
    "class Log_Schechter():\n",
    "    \n",
    "    def __init__(self, phi0, x0, alpha):\n",
    "        self.phi0 = phi0\n",
    "        self.x0 = x0\n",
    "        self.alpha = alpha\n",
    "    \n",
    "    def __call__(self, x):\n",
    "        x = np.asarray(x)\n",
    "        x = x.astype(float)\n",
    "        norm = np.log(10.0)*self.phi0\n",
    "        val = norm*(10.0**((x-self.x0)*(1.0+self.alpha)))*np.exp(-10.0**(x-self.x0))\n",
    "        return val\n",
    "\n",
    "#define galaxy abundance function\n",
    "dn_gal = Log_Schechter(10**(-3),10.5,-1.4)\n",
    "\n",
    "#get tabulated form\n",
    "mstar = np.linspace(8,12,100)\n",
    "dn = dn_gal(mstar)\n",
    "mstar = 10**mstar"
   ]
  },
  {
   "cell_type": "code",
   "execution_count": 5,
   "metadata": {
    "collapsed": false
   },
   "outputs": [
    {
     "name": "stdout",
     "output_type": "stream",
     "text": [
      "[ -2.10038522e-01   9.77341290e+00  -3.29122860e+02   5.34307451e+03]\n",
      "[ 8.          8.04040404  8.08080808  8.12121212] [-1.67095638 -1.68989603 -1.70895363 -1.72813464] slice(None, 4, None)\n",
      "[-0.47171609  2.10283239]\n"
     ]
    },
    {
     "name": "stderr",
     "output_type": "stream",
     "text": [
      "//anaconda/lib/python2.7/site-packages/scipy/optimize/minpack.py:604: OptimizeWarning: Covariance of the parameters could not be estimated\n",
      "  category=OptimizeWarning)\n",
      "halotools/empirical_models/abundance_matching/abundance.py:239: RuntimeWarning: overflow encountered in exp\n",
      "  return -1.0*np.exp(a*x+b) + c*x + d\n"
     ]
    }
   ],
   "source": [
    "params = {'n': dn, 'x': mstar, 'type': 'differential'}\n",
    "ab_func = abundance_matching.AbundanceFunctionFromTabulated(**params)"
   ]
  },
  {
   "cell_type": "code",
   "execution_count": 6,
   "metadata": {
    "collapsed": false
   },
   "outputs": [
    {
     "name": "stdout",
     "output_type": "stream",
     "text": [
      "[ -1.           0.          -1.326114    12.94632657]\n",
      "[ 10.60873985  10.60873985  10.60873985  10.60873985] [-1.15973167 -1.15973207 -1.15973247 -1.15973287] slice(None, 4, None)\n",
      "[-1.  0.]\n"
     ]
    }
   ],
   "source": [
    "galprop_sample_values = np.logspace(7,12.2,1000)\n",
    "haloprop_sample_values = np.logspace(11.5,15,1000)\n",
    "\n",
    "SHAM_model = abundance_matching.AbundanceMatching('mstar', \n",
    "                                                  'halo_mvir', \n",
    "                                                  ab_func, \n",
    "                                                  galprop_sample_values, haloprop_sample_values,\n",
    "                                                  complete_subhalo_catalog = halo_table, \n",
    "                                                  Lbox=250.0, scatter_level=0.0)"
   ]
  },
  {
   "cell_type": "code",
   "execution_count": 7,
   "metadata": {
    "collapsed": false
   },
   "outputs": [
    {
     "data": {
      "image/png": "[encoded data removed]",
      "text/plain": [
       "<matplotlib.figure.Figure at 0x104da1790>"
      ]
     },
     "metadata": {},
     "output_type": "display_data"
    }
   ],
   "source": [
    "halo_masses = np.logspace(11,16,100)\n",
    "result = SHAM_model.mean_mstar(prim_haloprop = halo_masses)\n",
    "\n",
    "plt.figure()\n",
    "plt.plot(halo_masses,result)\n",
    "plt.xscale('log')\n",
    "plt.yscale('log')\n",
    "plt.show()"
   ]
  },
  {
   "cell_type": "code",
   "execution_count": 8,
   "metadata": {
    "collapsed": false
   },
   "outputs": [
    {
     "name": "stdout",
     "output_type": "stream",
     "text": [
      "[ -1.           0.          -1.72504198  18.92996236]\n",
      "[ 10.60873985  10.60873985  10.60873985  10.60873985  10.60873985\n",
      "  10.60873985  10.60873985  10.60873985  10.60873985  10.60873985\n",
      "  10.60873985  10.60873985  10.60873985  10.60873985  10.60873985\n",
      "  10.60873985  10.60873985  10.60873985  10.60873985  10.60873985\n",
      "  10.60873985  10.60873985  10.60873985  10.60873985  10.60873985\n",
      "  10.60873985  10.60873985  10.60873985  10.60873985  10.60873985\n",
      "  10.60873985  10.60873985  10.60873985  10.60873985  10.60873985\n",
      "  10.60873985  10.60873985  10.60873985  10.60873985  10.60873985\n",
      "  10.60873985  10.60873985  10.60873985  10.60873985  10.60873985\n",
      "  10.60873985  10.60873985  10.60873985  10.60873985  10.60873985\n",
      "  10.60873985  10.60873985  10.60873985  10.60873985  10.60873985\n",
      "  10.60873985  10.60873985  10.60873985  10.60873985  10.60873985\n",
      "  10.60873985  10.60873985  10.60873985  10.60873985  10.60873985\n",
      "  10.60873985  10.60873985  10.60873985  10.60873985  10.60873985\n",
      "  10.60873985  10.60873985  10.60873985  10.60873985  10.60873985\n",
      "  10.60873985  10.60873985  10.60873985  10.60873985  10.60873985\n",
      "  10.60873985  10.60873985  10.60873985  10.60873985  10.60873985\n",
      "  10.60873985  10.60873985  10.60873985  10.60873985  10.60873985\n",
      "  10.60873985  10.60873985  10.60873985  10.60873985  10.60873985\n",
      "  10.60873985  10.60873985  10.60873985  10.60873985  10.60873985] [-1.15973167 -1.15973207 -1.15973247 -1.15973287 -1.15973327 -1.15973367\n",
      " -1.15973407 -1.15973448 -1.15973488 -1.15973528 -1.15973568 -1.15973608\n",
      " -1.15973648 -1.15973689 -1.15973729 -1.15973769 -1.15973809 -1.15973849\n",
      " -1.15973889 -1.15973929 -1.1597397  -1.1597401  -1.1597405  -1.1597409\n",
      " -1.1597413  -1.1597417  -1.1597421  -1.15974251 -1.15974291 -1.15974331\n",
      " -1.15974371 -1.15974411 -1.15974451 -1.15974492 -1.15974532 -1.15974572\n",
      " -1.15974612 -1.15974652 -1.15974692 -1.15974732 -1.15974773 -1.15974813\n",
      " -1.15974853 -1.15974893 -1.15974933 -1.15974973 -1.15975014 -1.15975054\n",
      " -1.15975094 -1.15975134 -1.15975174 -1.15975214 -1.15975254 -1.15975295\n",
      " -1.15975335 -1.15975375 -1.15975415 -1.15975455 -1.15975495 -1.15975536\n",
      " -1.15975576 -1.15975616 -1.15975656 -1.15975696 -1.15975736 -1.15975776\n",
      " -1.15975817 -1.15975857 -1.15975897 -1.15975937 -1.15975977 -1.15976017\n",
      " -1.15976058 -1.15976098 -1.15976138 -1.15976178 -1.15976218 -1.15976258\n",
      " -1.15976298 -1.15976339 -1.15976379 -1.15976419 -1.15976459 -1.15976499\n",
      " -1.15976539 -1.1597658  -1.1597662  -1.1597666  -1.159767   -1.1597674\n",
      " -1.1597678  -1.1597682  -1.15976861 -1.15976901 -1.15976941 -1.15976981\n",
      " -1.15977021 -1.15977061 -1.15977102 -1.15977142] slice(None, 100, None)\n",
      "[-1.  0.]\n"
     ]
    },
    {
     "data": {
      "text/plain": [
       "array([  6.40000000e-08,   1.28000000e-07,   1.92000000e-07, ...,\n",
       "         6.92257280e-02,   6.92257920e-02,   6.92258560e-02])"
      ]
     },
     "execution_count": 8,
     "metadata": {},
     "output_type": "execute_result"
    }
   ],
   "source": [
    "#caclulate empirical halo abundnace\n",
    "cumu_x, x_centers = abundance_matching.empirical_cum_ndensity(halo_table['halo_mvir'],default_halocat.Lbox**3)\n",
    "result = abundance_matching.AbundanceFunctionFromTabulated(\n",
    "                            n = cumu_x, \n",
    "                            x = x_centers, \n",
    "                            type = 'cumulative', \n",
    "                            n_increases_with_x = False,\n",
    "                            num_points_to_fit_low_abundance=10,\n",
    "                            num_points_to_fit_high_abundance=100)\n",
    "                      "
   ]
  },
  {
   "cell_type": "code",
   "execution_count": 15,
   "metadata": {
    "collapsed": false
   },
   "outputs": [
    {
     "data": {
      "image/png": "[encoded data removed]",
      "text/plain": [
       "<matplotlib.figure.Figure at 0x136ba5e10>"
      ]
     },
     "metadata": {},
     "output_type": "display_data"
    },
    {
     "data": {
      "image/png": "[encoded data removed]",
      "text/plain": [
       "<matplotlib.figure.Figure at 0x136b90cd0>"
      ]
     },
     "metadata": {},
     "output_type": "display_data"
    }
   ],
   "source": [
    "sample = np.logspace(10,15.5,50)\n",
    "\n",
    "plt.figure()\n",
    "plt.plot(x_centers,cumu_x,'-')\n",
    "plt.plot(sample,result.n(sample),'o')\n",
    "plt.yscale('log')\n",
    "plt.xscale('log')\n",
    "plt.show()\n",
    "\n",
    "plt.figure()\n",
    "plt.plot(result._x[1:],result._dn[1:],'o')\n",
    "plt.yscale('log')\n",
    "plt.xscale('log')\n",
    "plt.show()"
   ]
  },
  {
   "cell_type": "code",
   "execution_count": null,
   "metadata": {
    "collapsed": true
   },
   "outputs": [],
   "source": []
  }
 ],
 "metadata": {
  "kernelspec": {
   "display_name": "Python 2",
   "language": "python",
   "name": "python2"
  },
  "language_info": {
   "codemirror_mode": {
    "name": "ipython",
    "version": 2
   },
   "file_extension": ".py",
   "mimetype": "text/x-python",
   "name": "python",
   "nbconvert_exporter": "python",
   "pygments_lexer": "ipython2",
   "version": "2.7.11"
  }
 },
 "nbformat": 4,
 "nbformat_minor": 0
}
