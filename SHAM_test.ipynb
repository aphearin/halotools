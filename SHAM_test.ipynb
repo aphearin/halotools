{
 "metadata": {
  "kernelspec": {
   "display_name": "Python 2",
   "language": "python",
   "name": "python2"
  },
  "language_info": {
   "codemirror_mode": {
    "name": "ipython",
    "version": 2
   },
   "file_extension": ".py",
   "mimetype": "text/x-python",
   "name": "python",
   "nbconvert_exporter": "python",
   "pygments_lexer": "ipython2",
   "version": "2.7.11"
  },
  "name": "",
  "signature": "sha256:f51b8be91230949e22320117cadcfd30354ba4f556592cef05489560822d71b7"
 },
 "nbformat": 3,
 "nbformat_minor": 0,
 "worksheets": [
  {
   "cells": [
    {
     "cell_type": "code",
     "collapsed": false,
     "input": [
      "from halotools.empirical_models import abundance_matching\n",
      "import numpy as np\n",
      "from copy import deepcopy\n",
      "import matplotlib.pyplot as plt\n",
      "%matplotlib inline  "
     ],
     "language": "python",
     "metadata": {},
     "outputs": [],
     "prompt_number": 1
    },
    {
     "cell_type": "code",
     "collapsed": false,
     "input": [
      "galaxy_af = abundance_matching.LiWhite2009(mstar = np.logspace(7.5, 11.5, 100))"
     ],
     "language": "python",
     "metadata": {},
     "outputs": [],
     "prompt_number": 2
    },
    {
     "cell_type": "code",
     "collapsed": false,
     "input": [
      "deconvolved_log10_x_abscissa, mask = galaxy_af.compute_deconvolved_galaxy_abundance_function(scatter = 0.2, repeat=40)"
     ],
     "language": "python",
     "metadata": {},
     "outputs": [],
     "prompt_number": 6
    },
    {
     "cell_type": "code",
     "collapsed": false,
     "input": [
      "print(deconvolved_log10_x_abscissa[mask])"
     ],
     "language": "python",
     "metadata": {},
     "outputs": [
      {
       "output_type": "stream",
       "stream": "stdout",
       "text": [
        "[  7.79314338   7.79351675   7.79369965   7.7939639    7.79437434\n",
        "   7.79499326   7.79591037   7.79728775   7.79946154   7.80319055\n",
        "   7.81035433   7.82612715   7.86503494   7.9513924    8.06500431\n",
        "   8.15379233   8.21474615   8.25958302   8.29582108   8.3275618\n",
        "   8.35720853   8.38634364   8.41613481   8.44751261   8.48121929\n",
        "   8.5177676    8.55733906   8.59967685   8.64406134   8.68943923\n",
        "   8.73468397   8.77886523   8.82140729   8.86210808   8.90107      8.93860677\n",
        "   8.97516444   9.0112668    9.04747986   9.08438365   9.12253693\n",
        "   9.16241986   9.20434436   9.24833998   9.29405858   9.34077414\n",
        "   9.38753355   9.43341673   9.47777295   9.5203218    9.56111484\n",
        "   9.60042757   9.63864862   9.67619588   9.71346169   9.75077854\n",
        "   9.78839759   9.8264757    9.86507095   9.90414764   9.9435916\n",
        "   9.98323389  10.02287851  10.06232855  10.10140661  10.13996761\n",
        "  10.17790498  10.21515207  10.25168106  10.28750067  10.32265322\n",
        "  10.35721118  10.39127292  10.42495766  10.45839924  10.49173871\n",
        "  10.5251152   10.55865461  10.5924555   10.62657182  10.66099258\n",
        "  10.6956203   10.73025159  10.76456602  10.79813069  10.83042702\n",
        "  10.86090171  10.88903552  10.91441477  10.93678612  10.95607944\n",
        "  10.97239476  10.98596234  10.99709131  11.00612164]\n"
       ]
      }
     ],
     "prompt_number": 7
    },
    {
     "cell_type": "code",
     "collapsed": false,
     "input": [
      "plt.plot(galaxy_af.x_abscissa[mask], \n",
      "         galaxy_af.n(galaxy_af.x_abscissa[mask]), color='blue', label='original')\n",
      "plt.plot(10**deconvolved_log10_x_abscissa[mask], \n",
      "         galaxy_af.n(galaxy_af.x_abscissa[mask]), '--', color='red', label='deconvolved no scatter')\n",
      "plt.loglog()\n",
      "plt.legend(frameon=False, loc='best')"
     ],
     "language": "python",
     "metadata": {},
     "outputs": [
      {
       "metadata": {},
       "output_type": "pyout",
       "prompt_number": 15,
       "text": [
        "<matplotlib.legend.Legend at 0x114b27d50>"
       ]
      },
      {
       "metadata": {},
       "output_type": "display_data",
       "png": "[encoded data removed]",
       "text": [
        "<matplotlib.figure.Figure at 0x114b6c4d0>"
       ]
      }
     ],
     "prompt_number": 15
    },
    {
     "cell_type": "code",
     "collapsed": true,
     "input": [],
     "language": "python",
     "metadata": {},
     "outputs": [],
     "prompt_number": null
    }
   ],
   "metadata": {}
  }
 ]
}