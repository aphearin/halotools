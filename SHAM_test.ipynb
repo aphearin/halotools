{
 "cells": [
  {
   "cell_type": "code",
   "execution_count": 2,
   "metadata": {
    "collapsed": false
   },
   "outputs": [],
   "source": [
    "from halotools.empirical_models import abundance_matching\n",
    "from halotools import sim_manager\n",
    "import numpy as np\n",
    "import matplotlib.pyplot as plt\n",
    "%matplotlib inline  "
   ]
  },
  {
   "cell_type": "code",
   "execution_count": 3,
   "metadata": {
    "collapsed": false
   },
   "outputs": [],
   "source": [
    "#load halo catalogue\n",
    "default_halocat = sim_manager.CachedHaloCatalog() \n",
    "halo_table = default_halocat.halo_table"
   ]
  },
  {
   "cell_type": "code",
   "execution_count": 10,
   "metadata": {
    "collapsed": false
   },
   "outputs": [],
   "source": [
    "#define schecter function\n",
    "class Log_Schechter():\n",
    "    \n",
    "    def __init__(self, phi0, x0, alpha):\n",
    "        self.phi0 = phi0\n",
    "        self.x0 = x0\n",
    "        self.alpha = alpha\n",
    "    \n",
    "    def __call__(self, x):\n",
    "        x = np.asarray(x)\n",
    "        x = x.astype(float)\n",
    "        norm = np.log(10.0)*self.phi0\n",
    "        val = norm*(10.0**((x-self.x0)*(1.0+self.alpha)))*np.exp(-10.0**(x-self.x0))\n",
    "        return val\n",
    "\n",
    "#define galaxy abundance function\n",
    "dn_gal = Log_Schechter(10**(-3),10.5,-1.4)\n",
    "\n",
    "#get tabulated form\n",
    "mstar = np.linspace(8,12,100)\n",
    "dn = dn_gal(mstar)"
   ]
  },
  {
   "cell_type": "code",
   "execution_count": 11,
   "metadata": {
    "collapsed": false
   },
   "outputs": [
    {
     "name": "stdout",
     "output_type": "stream",
     "text": [
      "slice(-4, None, None)\n"
     ]
    }
   ],
   "source": [
    "params = {'n': dn, 'x': mstar, 'type': 'differential'}\n",
    "ab_func = abundance_matching.AbundanceFunctionFromTabulated(**params)"
   ]
  },
  {
   "cell_type": "code",
   "execution_count": 16,
   "metadata": {
    "collapsed": false
   },
   "outputs": [
    {
     "data": {
      "image/png": "[encoded data removed]",
      "text/plain": [
       "<matplotlib.figure.Figure at 0x10f369790>"
      ]
     },
     "metadata": {},
     "output_type": "display_data"
    }
   ],
   "source": [
    "#plot galaxy abndance function\n",
    "ext_mstar = np.linspace(7,12.2,50)\n",
    "plt.figure()\n",
    "plt.plot(mstar,dn)\n",
    "plt.plot(ext_mstar,ab_func.dn(ext_mstar),'.')\n",
    "plt.yscale('log')\n",
    "plt.show()"
   ]
  },
  {
   "cell_type": "code",
   "execution_count": 20,
   "metadata": {
    "collapsed": false
   },
   "outputs": [
    {
     "ename": "NameError",
     "evalue": "name 'AbundanceMatching' is not defined",
     "output_type": "error",
     "traceback": [
      "\u001b[0;31m---------------------------------------------------------------------------\u001b[0m",
      "\u001b[0;31mNameError\u001b[0m                                 Traceback (most recent call last)",
      "\u001b[0;32m<ipython-input-20-e6a568efb07c>\u001b[0m in \u001b[0;36m<module>\u001b[0;34m()\u001b[0m\n\u001b[1;32m      1\u001b[0m \u001b[0mhalo_table\u001b[0m \u001b[0;34m=\u001b[0m \u001b[0mdefault_halocat\u001b[0m\u001b[0;34m.\u001b[0m\u001b[0mhalo_table\u001b[0m\u001b[0;34m\u001b[0m\u001b[0m\n\u001b[0;32m----> 2\u001b[0;31m \u001b[0mSHAM_model\u001b[0m \u001b[0;34m=\u001b[0m \u001b[0mAbundanceMatching\u001b[0m\u001b[0;34m(\u001b[0m\u001b[0;34m'mstar'\u001b[0m\u001b[0;34m,\u001b[0m \u001b[0;34m'mvir'\u001b[0m\u001b[0;34m,\u001b[0m \u001b[0mcomplete_subhalo_catalog\u001b[0m \u001b[0;34m=\u001b[0m \u001b[0mhalo_table\u001b[0m\u001b[0;34m,\u001b[0m \u001b[0mscatter_level\u001b[0m\u001b[0;34m=\u001b[0m\u001b[0;36m0.0\u001b[0m\u001b[0;34m)\u001b[0m\u001b[0;34m\u001b[0m\u001b[0m\n\u001b[0m",
      "\u001b[0;31mNameError\u001b[0m: name 'AbundanceMatching' is not defined"
     ]
    }
   ],
   "source": [
    "SHAM_model = AbundanceMatching('mstar', 'halo_mvir', complete_subhalo_catalog = halo_table, scatter_level=0.0)"
   ]
  },
  {
   "cell_type": "code",
   "execution_count": 5,
   "metadata": {
    "collapsed": false
   },
   "outputs": [],
   "source": [
    "#caclulate empirical halo abundnace\n",
    "cumu_x, x_centers = abundance_matching.empirical_cum_ndensity(halo_table['halo_mvir'],default_halocat.Lbox**3)"
   ]
  },
  {
   "cell_type": "code",
   "execution_count": 6,
   "metadata": {
    "collapsed": false
   },
   "outputs": [
    {
     "data": {
      "image/png": "[encoded data removed]",
      "text/plain": [
       "<matplotlib.figure.Figure at 0x10eed3c90>"
      ]
     },
     "metadata": {},
     "output_type": "display_data"
    }
   ],
   "source": [
    "plt.figure()\n",
    "plt.plot(x_centers,cumu_x)\n",
    "plt.yscale('log')\n",
    "plt.xscale('log')\n",
    "plt.show()"
   ]
  },
  {
   "cell_type": "code",
   "execution_count": null,
   "metadata": {
    "collapsed": true
   },
   "outputs": [],
   "source": []
  }
 ],
 "metadata": {
  "kernelspec": {
   "display_name": "Python 2",
   "language": "python",
   "name": "python2"
  },
  "language_info": {
   "codemirror_mode": {
    "name": "ipython",
    "version": 2
   },
   "file_extension": ".py",
   "mimetype": "text/x-python",
   "name": "python",
   "nbconvert_exporter": "python",
   "pygments_lexer": "ipython2",
   "version": "2.7.11"
  }
 },
 "nbformat": 4,
 "nbformat_minor": 0
}
