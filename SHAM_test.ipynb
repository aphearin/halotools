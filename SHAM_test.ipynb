{
 "metadata": {
  "kernelspec": {
   "display_name": "Python 2",
   "language": "python",
   "name": "python2"
  },
  "language_info": {
   "codemirror_mode": {
    "name": "ipython",
    "version": 2
   },
   "file_extension": ".py",
   "mimetype": "text/x-python",
   "name": "python",
   "nbconvert_exporter": "python",
   "pygments_lexer": "ipython2",
   "version": "2.7.11"
  },
  "name": "",
  "signature": "sha256:e99b6f1ca0f1fb20671e89a84e61d04fbbe1d99470a3b8b58565c620b3263091"
 },
 "nbformat": 3,
 "nbformat_minor": 0,
 "worksheets": [
  {
   "cells": [
    {
     "cell_type": "code",
     "collapsed": false,
     "input": [
      "from halotools.empirical_models import abundance_matching\n",
      "from halotools import sim_manager\n",
      "import numpy as np\n",
      "import matplotlib.pyplot as plt\n",
      "%matplotlib inline  "
     ],
     "language": "python",
     "metadata": {},
     "outputs": [],
     "prompt_number": 1
    },
    {
     "cell_type": "code",
     "collapsed": false,
     "input": [
      "#load stored abundance functions\n",
      "galaxy_af = abundance_matching.LiWhite2009(mstar = np.logspace(9, 11., 100))\n",
      "halo_af = abundance_matching.BolshoiMpeak()"
     ],
     "language": "python",
     "metadata": {},
     "outputs": [],
     "prompt_number": 11
    },
    {
     "cell_type": "code",
     "collapsed": false,
     "input": [
      "print(galaxy_af.x_abscissa[::10])\n"
     ],
     "language": "python",
     "metadata": {},
     "outputs": [
      {
       "output_type": "stream",
       "stream": "stdout",
       "text": [
        "[  1.00000000e+09   1.59228279e+09   2.53536449e+09   4.03701726e+09\n",
        "   6.42807312e+09   1.02353102e+10   1.62975083e+10   2.59502421e+10\n",
        "   4.13201240e+10   6.57933225e+10]\n"
       ]
      }
     ],
     "prompt_number": 12
    },
    {
     "cell_type": "code",
     "collapsed": false,
     "input": [
      "dnx = galaxy_af.dn(galaxy_af.x_abscissa)\n",
      "print(dnx)"
     ],
     "language": "python",
     "metadata": {},
     "outputs": [
      {
       "output_type": "stream",
       "stream": "stdout",
       "text": [
        "[  1.38032590e-11   1.29445510e-11   1.21325467e-11   1.13648873e-11\n",
        "   1.06393351e-11   9.95376697e-12   9.30616872e-12   8.69462906e-12\n",
        "   8.11733437e-12   7.57256351e-12   7.05868290e-12   6.57414192e-12\n",
        "   6.11746842e-12   5.68726456e-12   5.28220275e-12   4.90102190e-12\n",
        "   4.54252374e-12   4.32849607e-12   4.13240427e-12   3.94435500e-12\n",
        "   3.76402240e-12   3.59109419e-12   3.42527109e-12   3.26626628e-12\n",
        "   3.11380494e-12   2.96762371e-12   2.82747027e-12   2.69310288e-12\n",
        "   2.56428993e-12   2.44080955e-12   2.32244923e-12   2.20900539e-12\n",
        "   2.10028307e-12   1.99609555e-12   1.89626403e-12   1.80061727e-12\n",
        "   1.70899135e-12   1.62122931e-12   1.53718086e-12   1.45670217e-12\n",
        "   1.37965552e-12   1.30590910e-12   1.23533673e-12   1.16781765e-12\n",
        "   1.10323625e-12   1.04148188e-12   9.82448621e-13   9.26035058e-13\n",
        "   8.72144102e-13   8.20682774e-13   7.71562021e-13   7.24696521e-13\n",
        "   6.80004505e-13   6.37407575e-13   5.96830533e-13   5.58201207e-13\n",
        "   5.21450284e-13   4.86511151e-13   4.53319732e-13   4.21814334e-13\n",
        "   3.91935491e-13   3.63625819e-13   3.36829868e-13   3.11493982e-13\n",
        "   2.87566159e-13   2.64995919e-13   2.43734175e-13   2.23733110e-13\n",
        "   2.04946059e-13   1.87327394e-13   1.70832422e-13   1.55417288e-13\n",
        "   1.41038882e-13   1.27654758e-13   1.15223068e-13   1.03702495e-13\n",
        "   9.30522043e-14   8.32318092e-14   7.42013404e-14   6.59212347e-14\n",
        "   5.83523348e-14   5.14559026e-14   4.51936452e-14   4.01783661e-14\n",
        "   3.50441572e-14   3.05019556e-14   2.64901901e-14   2.29531520e-14\n",
        "   1.98404645e-14   1.71065998e-14   1.47104395e-14   1.26148746e-14\n",
        "   1.07864418e-14   9.19499193e-15   7.81338875e-15   6.61723401e-15\n",
        "   5.58461761e-15   4.69588980e-15   3.93345360e-15]\n"
       ]
      }
     ],
     "prompt_number": 13
    },
    {
     "cell_type": "code",
     "collapsed": false,
     "input": [
      "galaxy_af.n_increases_with_x"
     ],
     "language": "python",
     "metadata": {},
     "outputs": [
      {
       "metadata": {},
       "output_type": "pyout",
       "prompt_number": 14,
       "text": [
        "False"
       ]
      }
     ],
     "prompt_number": 14
    },
    {
     "cell_type": "code",
     "collapsed": false,
     "input": [
      "result = galaxy_af.compute_deconvolved_galaxy_abundance_function(scatter=0.005, repeat=2)"
     ],
     "language": "python",
     "metadata": {},
     "outputs": []
    },
    {
     "cell_type": "code",
     "collapsed": false,
     "input": [
      "#plot cumulative abundance functions\n",
      "plt.figure()\n",
      "l1, = plt.plot(galaxy_af.x_abscissa,galaxy_af.n(galaxy_af.x_abscissa))\n",
      "l2, = plt.plot(halo_af.x_abscissa,halo_af.n(halo_af.x_abscissa))\n",
      "plt.legend((l1,l2),('galaxy','halo'))\n",
      "plt.xscale('log')\n",
      "plt.yscale('log')\n",
      "plt.ylim([10**(-8),1])\n",
      "plt.xlabel(r'$M_{\\rm stellar}$, $M_{\\rm peak}$')\n",
      "plt.ylabel(r'$n(<M)$')\n",
      "plt.show()"
     ],
     "language": "python",
     "metadata": {},
     "outputs": [
      {
       "metadata": {},
       "output_type": "display_data",
       "png": "[encoded data removed]",
       "text": [
        "<matplotlib.figure.Figure at 0x10f576550>"
       ]
      }
     ],
     "prompt_number": 10
    },
    {
     "cell_type": "code",
     "collapsed": false,
     "input": [
      "mstar = np.logspace(2,12.5,100)\n",
      "mpeak = np.logspace(11,16,100)\n",
      "params = {'galprop_name':'mstar',\n",
      "          'prim_haloprop_key':'halo_mpeak',\n",
      "          'galaxy_abundance_function':galaxy_af,\n",
      "          'halo_abundance_function':halo_af,\n",
      "          'galprop_sample_values':mstar,\n",
      "          'haloprop_sample_values':mpeak,\n",
      "          'scatter':0.0\n",
      "          }\n",
      "result = abundance_matching.AbundanceMatching(**params)"
     ],
     "language": "python",
     "metadata": {},
     "outputs": [],
     "prompt_number": 4
    },
    {
     "cell_type": "code",
     "collapsed": false,
     "input": [
      "mean_mstar = result.mean_mstar(prim_haloprop=mpeak)\n",
      "plt.figure()\n",
      "plt.plot(mpeak,mean_mstar,'.', ms=2)\n",
      "plt.xlabel(r'$M_{\\rm peak}$')\n",
      "plt.ylabel(r'$M_{\\rm stellar}$')\n",
      "plt.xscale('log')\n",
      "plt.yscale('log')\n",
      "plt.show()"
     ],
     "language": "python",
     "metadata": {},
     "outputs": [
      {
       "metadata": {},
       "output_type": "display_data",
       "png": "[encoded data removed]",
       "text": [
        "<matplotlib.figure.Figure at 0x1102f4310>"
       ]
      }
     ],
     "prompt_number": 9
    },
    {
     "cell_type": "code",
     "collapsed": true,
     "input": [
      "#load halo catalogue\n",
      "halocat = sim_manager.CachedHaloCatalog('Bolshoi',z=0.0) \n",
      "halo_table = halocat.halo_table"
     ],
     "language": "python",
     "metadata": {},
     "outputs": [],
     "prompt_number": 10
    },
    {
     "cell_type": "code",
     "collapsed": true,
     "input": [],
     "language": "python",
     "metadata": {},
     "outputs": [],
     "prompt_number": null
    }
   ],
   "metadata": {}
  }
 ]
}