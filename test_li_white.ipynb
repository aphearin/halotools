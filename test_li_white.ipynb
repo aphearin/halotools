{
 "metadata": {
  "name": "",
  "signature": "sha256:2bb5ae9ded0eab3eadf716098421990057817f0b5a609a9ddee494ebbc953842"
 },
 "nbformat": 3,
 "nbformat_minor": 0,
 "worksheets": [
  {
   "cells": [
    {
     "cell_type": "code",
     "collapsed": false,
     "input": [
      "# This file came straight from Yao\n",
      "fname = '/Users/aphearin/Desktop/af.npy'\n",
      "log10x, dn_dlog10x, af_key, af_val, smm, mf = np.load(fname)"
     ],
     "language": "python",
     "metadata": {},
     "outputs": [],
     "prompt_number": 1
    },
    {
     "cell_type": "code",
     "collapsed": false,
     "input": [
      "print(log10x[::100])"
     ],
     "language": "python",
     "metadata": {},
     "outputs": [
      {
       "output_type": "stream",
       "stream": "stdout",
       "text": [
        "[ 12.2   10.98   9.76   8.54   7.32   6.1    4.88   3.66   2.44   1.22   0.  ]\n"
       ]
      }
     ],
     "prompt_number": 2
    },
    {
     "cell_type": "code",
     "collapsed": false,
     "input": [
      "print(dn_dlog10x[::100]) "
     ],
     "language": "python",
     "metadata": {},
     "outputs": [
      {
       "output_type": "stream",
       "stream": "stdout",
       "text": [
        "[  3.03089793e-23   8.58913117e-04   2.14001685e-02   3.91595079e-02\n",
        "   6.11481003e-02   9.47418102e-02   1.46808698e-01   2.27489782e-01\n",
        "   3.52510456e-01   5.46238254e-01   8.46432283e-01]\n"
       ]
      }
     ],
     "prompt_number": 3
    },
    {
     "cell_type": "code",
     "collapsed": false,
     "input": [
      "from halotools.empirical_models import abundance_matching\n",
      "af = abundance_matching.LiWhite2009(mstar = 10.**log10x)"
     ],
     "language": "python",
     "metadata": {},
     "outputs": [],
     "prompt_number": 8
    },
    {
     "cell_type": "code",
     "collapsed": false,
     "input": [
      "af.x_abscissa[::100]"
     ],
     "language": "python",
     "metadata": {},
     "outputs": [
      {
       "metadata": {},
       "output_type": "pyout",
       "prompt_number": 9,
       "text": [
        "array([  1.00000000e+00,   1.65958691e+01,   2.75422870e+02,\n",
        "         4.57088190e+03,   7.58577575e+04,   1.25892541e+06,\n",
        "         2.08929613e+07,   3.46736850e+08,   5.75439937e+09,\n",
        "         9.54992586e+10])"
       ]
      }
     ],
     "prompt_number": 9
    },
    {
     "cell_type": "code",
     "collapsed": false,
     "input": [
      "af_key[::100]-log10x[::-100]"
     ],
     "language": "python",
     "metadata": {},
     "outputs": [
      {
       "metadata": {},
       "output_type": "pyout",
       "prompt_number": 6,
       "text": [
        "array([ 0.,  0.,  0.,  0.,  0.,  0.,  0.,  0.,  0.,  0.,  0.])"
       ]
      }
     ],
     "prompt_number": 6
    },
    {
     "cell_type": "code",
     "collapsed": false,
     "input": [
      "af_key[::100]"
     ],
     "language": "python",
     "metadata": {},
     "outputs": [
      {
       "metadata": {},
       "output_type": "pyout",
       "prompt_number": 9,
       "text": [
        "array([  0.  ,   1.22,   2.44,   3.66,   4.88,   6.1 ,   7.32,   8.54,\n",
        "         9.76,  10.98,  12.2 ])"
       ]
      }
     ],
     "prompt_number": 9
    },
    {
     "cell_type": "code",
     "collapsed": false,
     "input": [
      "len(af.x_abscissa), len(af_key)"
     ],
     "language": "python",
     "metadata": {},
     "outputs": [
      {
       "metadata": {},
       "output_type": "pyout",
       "prompt_number": 10,
       "text": [
        "(1000, 1001)"
       ]
      }
     ],
     "prompt_number": 10
    },
    {
     "cell_type": "code",
     "collapsed": false,
     "input": [
      "print(af_key[-6:])\n",
      "print(af.x_abscissa[-5:])"
     ],
     "language": "python",
     "metadata": {},
     "outputs": [
      {
       "output_type": "stream",
       "stream": "stdout",
       "text": [
        "[ 12.139   12.1512  12.1634  12.1756  12.1878  12.2   ]\n",
        "[ 12.139   12.1512  12.1634  12.1756  12.1878]\n"
       ]
      }
     ],
     "prompt_number": 13
    },
    {
     "cell_type": "code",
     "collapsed": false,
     "input": [
      "print(af_key[:5])\n",
      "print(af.x_abscissa[:5])"
     ],
     "language": "python",
     "metadata": {},
     "outputs": [
      {
       "output_type": "stream",
       "stream": "stdout",
       "text": [
        "[ 0.      0.0122  0.0244  0.0366  0.0488]\n",
        "[ 0.      0.0122  0.0244  0.0366  0.0488]\n"
       ]
      }
     ],
     "prompt_number": 14
    },
    {
     "cell_type": "code",
     "collapsed": false,
     "input": [],
     "language": "python",
     "metadata": {},
     "outputs": []
    }
   ],
   "metadata": {}
  }
 ]
}