{
 "metadata": {
  "name": "",
  "signature": "sha256:dd0b71ccd2e31ffd79aeed3391389ce94d7e0d6f3c04ed125dd1f2158079c31f"
 },
 "nbformat": 3,
 "nbformat_minor": 0,
 "worksheets": [
  {
   "cells": [
    {
     "cell_type": "code",
     "collapsed": false,
     "input": [
      "%matplotlib inline\n",
      "from halotools.empirical_models import abundance_matching\n",
      "# This file came straight from Yao\n",
      "fname = '/Users/aphearin/Desktop/af.npy'\n",
      "log10x, dn_dlog10x, af_key, af_val, smm, mf = np.load(fname)"
     ],
     "language": "python",
     "metadata": {},
     "outputs": [],
     "prompt_number": 1
    },
    {
     "cell_type": "code",
     "collapsed": false,
     "input": [
      "af = abundance_matching.LiWhite2009(mstar = 10.**log10x)"
     ],
     "language": "python",
     "metadata": {},
     "outputs": [],
     "prompt_number": 2
    },
    {
     "cell_type": "code",
     "collapsed": false,
     "input": [
      "af.x_abscissa[::100]"
     ],
     "language": "python",
     "metadata": {},
     "outputs": [
      {
       "metadata": {},
       "output_type": "pyout",
       "prompt_number": 3,
       "text": [
        "array([  1.00000000e+00,   1.65958691e+01,   2.75422870e+02,\n",
        "         4.57088190e+03,   7.58577575e+04,   1.25892541e+06,\n",
        "         2.08929613e+07,   3.46736850e+08,   5.75439937e+09,\n",
        "         9.54992586e+10])"
       ]
      }
     ],
     "prompt_number": 3
    },
    {
     "cell_type": "code",
     "collapsed": false,
     "input": [
      "np.log10(af.x_abscissa[::100])"
     ],
     "language": "python",
     "metadata": {},
     "outputs": [
      {
       "metadata": {},
       "output_type": "pyout",
       "prompt_number": 4,
       "text": [
        "array([  0.  ,   1.22,   2.44,   3.66,   4.88,   6.1 ,   7.32,   8.54,\n",
        "         9.76,  10.98])"
       ]
      }
     ],
     "prompt_number": 4
    },
    {
     "cell_type": "code",
     "collapsed": false,
     "input": [
      "af_key[::100]"
     ],
     "language": "python",
     "metadata": {},
     "outputs": [
      {
       "metadata": {},
       "output_type": "pyout",
       "prompt_number": 5,
       "text": [
        "array([  0.  ,   1.22,   2.44,   3.66,   4.88,   6.1 ,   7.32,   8.54,\n",
        "         9.76,  10.98,  12.2 ])"
       ]
      }
     ],
     "prompt_number": 5
    },
    {
     "cell_type": "code",
     "collapsed": false,
     "input": [
      "dnx = af.dn(af.x_abscissa)"
     ],
     "language": "python",
     "metadata": {},
     "outputs": [],
     "prompt_number": 6
    },
    {
     "cell_type": "code",
     "collapsed": false,
     "input": [
      "dnx[::100]"
     ],
     "language": "python",
     "metadata": {},
     "outputs": [
      {
       "metadata": {},
       "output_type": "pyout",
       "prompt_number": 7,
       "text": [
        "array([  2.65522167e-01,   1.10765059e-02,   4.62066790e-04,\n",
        "         1.92755288e-05,   8.04082744e-07,   3.35333788e-08,\n",
        "         1.39218750e-09,   5.36357106e-11,   1.56869110e-12,\n",
        "         3.92641231e-15])"
       ]
      }
     ],
     "prompt_number": 7
    },
    {
     "cell_type": "code",
     "collapsed": false,
     "input": [
      "dn_dlog10x[::100]"
     ],
     "language": "python",
     "metadata": {},
     "outputs": [
      {
       "metadata": {},
       "output_type": "pyout",
       "prompt_number": 8,
       "text": [
        "array([  3.03089793e-23,   8.58913117e-04,   2.14001685e-02,\n",
        "         3.91595079e-02,   6.11481003e-02,   9.47418102e-02,\n",
        "         1.46808698e-01,   2.27489782e-01,   3.52510456e-01,\n",
        "         5.46238254e-01,   8.46432283e-01])"
       ]
      }
     ],
     "prompt_number": 8
    },
    {
     "cell_type": "code",
     "collapsed": false,
     "input": [
      "plt.plot(af.x_abscissa, af.dn(af.x_abscissa)*af.x_abscissa*np.log(10), color='red', label='halotools')\n",
      "plt.loglog()\n",
      "plt.plot(10**log10x, dn_dlog10x, color='blue', label='yyao')\n",
      "plt.legend(frameon=False, loc='best')\n",
      "plt.ylim(ymin = 1e-9)\n",
      "plt.ylabel(r'${\\rm d}\\phi/{\\rm dlog}_{10}M_{\\ast}$', fontsize = 20)"
     ],
     "language": "python",
     "metadata": {},
     "outputs": [
      {
       "metadata": {},
       "output_type": "pyout",
       "prompt_number": 9,
       "text": [
        "<matplotlib.text.Text at 0x113ac0950>"
       ]
      },
      {
       "metadata": {},
       "output_type": "display_data",
       "png": "[encoded data removed]",
       "text": [
        "<matplotlib.figure.Figure at 0x111ee3b50>"
       ]
      }
     ],
     "prompt_number": 9
    },
    {
     "cell_type": "code",
     "collapsed": false,
     "input": [
      "np.allclose(af_key, log10x[::-1])"
     ],
     "language": "python",
     "metadata": {},
     "outputs": [
      {
       "metadata": {},
       "output_type": "pyout",
       "prompt_number": 10,
       "text": [
        "True"
       ]
      }
     ],
     "prompt_number": 10
    },
    {
     "cell_type": "code",
     "collapsed": false,
     "input": [
      "np.allclose(af_val[::-1], np.log10(dn_dlog10x))"
     ],
     "language": "python",
     "metadata": {},
     "outputs": [
      {
       "metadata": {},
       "output_type": "pyout",
       "prompt_number": 11,
       "text": [
        "True"
       ]
      }
     ],
     "prompt_number": 11
    },
    {
     "cell_type": "code",
     "collapsed": false,
     "input": [
      "x=10**log10x\n",
      "y = np.gradient(np.exp(dn_dlog10x))\n",
      "\n",
      "plt.plot(x, mf[::-1], label = 'mf', color='blue')\n",
      "plt.plot(x, y, label = 'aph guess', color='red')\n",
      "plt.loglog()\n",
      "plt.xlim(xmin=1e6, xmax=1e12)\n",
      "plt.ylim(ymin=1e-11)\n",
      "\n",
      "plt.legend(frameon=False, loc='best')"
     ],
     "language": "python",
     "metadata": {},
     "outputs": [
      {
       "metadata": {},
       "output_type": "pyout",
       "prompt_number": 28,
       "text": [
        "<matplotlib.legend.Legend at 0x115f0bc90>"
       ]
      },
      {
       "metadata": {},
       "output_type": "display_data",
       "png": "[encoded data removed]",
       "text": [
        "<matplotlib.figure.Figure at 0x115cb2b90>"
       ]
      }
     ],
     "prompt_number": 28
    },
    {
     "cell_type": "code",
     "collapsed": false,
     "input": [],
     "language": "python",
     "metadata": {},
     "outputs": [],
     "prompt_number": 20
    }
   ],
   "metadata": {}
  }
 ]
}