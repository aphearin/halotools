{
 "metadata": {
  "name": "",
  "signature": "sha256:f1671a8978aeab2f1e8aca3b3895485a7394e5f7daadb04f714906ec802ac29d"
 },
 "nbformat": 3,
 "nbformat_minor": 0,
 "worksheets": [
  {
   "cells": [
    {
     "cell_type": "code",
     "collapsed": false,
     "input": [
      "from halotools.empirical_models import Hearin15, Leauthaud11, AssembiasLeauthaud11Cens\n",
      "hearin = Hearin15(threshold=10)\n",
      "leauthaud = Leauthaud11(threshold=10)\n",
      "assleau = AssembiasLeauthaud11Cens(threshold=10)"
     ],
     "language": "python",
     "metadata": {},
     "outputs": [
      {
       "output_type": "stream",
       "stream": "stderr",
       "text": [
        "halotools/empirical_models/model_factories.py:1018: UserWarning: The composite model received multiple component models \n",
        "with a new_haloprop_func_dict that use the halo_nfw_conc_percentile key. \\Ignoring the one that appears in the occupation component for centrals galaxies\n",
        "  warn(msg % (example_repeated_element, component_key, gal_type))\n"
       ]
      }
     ],
     "prompt_number": 1
    },
    {
     "cell_type": "code",
     "collapsed": false,
     "input": [
      "from astropy.table import Table\n",
      "from halotools.utils.table_utils import compute_conditional_percentiles\n",
      "\n",
      "Npts = 1e4\n",
      "mass = np.zeros(Npts) + 5e11\n",
      "conc = np.linspace(0, 10, Npts)\n",
      "d = {'halo_mvir': mass, 'halo_conc': zform}\n",
      "halos = Table(d)\n",
      "halos['halo_nfw_conc_percentile'] = compute_conditional_percentiles(halo_table=halos, \n",
      "                                                   prim_haloprop_key='halo_mvir', \n",
      "                                                   sec_haloprop_key='halo_conc', \n",
      "                                                   dlog10_prim_haloprop=0.05)"
     ],
     "language": "python",
     "metadata": {},
     "outputs": [],
     "prompt_number": 6
    },
    {
     "cell_type": "code",
     "collapsed": false,
     "input": [
      "hearin.param_dict['scatter_model_param1_centrals'] = 0.2\n",
      "ncen1 = hearin.mean_occupation_centrals(halo_table = halos)\n",
      "hearin.param_dict['scatter_model_param1_centrals'] = 0.8\n",
      "ncen2 = hearin.mean_occupation_centrals(halo_table = halos)\n",
      "result = np.all(ncen1 == ncen2)\n",
      "#print(result)\n",
      "print ncen1[0:1000].min(), ncen1[0:1000].max()\n",
      "print ncen2[0:1000].min(), ncen2[0:1000].max()\n",
      "print \"\\n\"\n",
      "print ncen1[-1000:].min(), ncen1[-1000:].max()\n",
      "print ncen2[-1000:].min(), ncen2[-1000:].max()"
     ],
     "language": "python",
     "metadata": {},
     "outputs": [
      {
       "output_type": "stream",
       "stream": "stdout",
       "text": [
        "\n",
        "\n",
        "0.87058039598 0.87058039598\n",
        "0.450175943674 0.450175943674\n",
        "\n",
        "\n",
        "0.956860131993 0.956860131993\n",
        "0.816725314558 0.816725314558\n"
       ]
      }
     ],
     "prompt_number": 21
    },
    {
     "cell_type": "code",
     "collapsed": false,
     "input": [
      "hearin.param_dict['scatter_model_param1_centrals'] = 0.2\n",
      "mc_ncen1 = hearin.mc_occupation_centrals(halo_table = halos)\n",
      "ncen1 = hearin.mean_occupation_centrals(halo_table = halos)\n",
      "hearin.param_dict['scatter_model_param1_centrals'] = 0.8\n",
      "mc_ncen2 = hearin.mc_occupation_centrals(halo_table = halos)\n",
      "print mc_ncen1[0:1000].mean()\n",
      "print mc_ncen2[0:1000].mean()\n",
      "print \"\\n\"\n",
      "print mc_ncen1[-1000:].mean()\n",
      "print mc_ncen2[-1000:].mean()\n"
     ],
     "language": "python",
     "metadata": {},
     "outputs": [
      {
       "output_type": "stream",
       "stream": "stdout",
       "text": [
        "0.857\n",
        "0.454\n",
        "\n",
        "\n",
        "0.946\n",
        "0.815\n"
       ]
      }
     ],
     "prompt_number": 23
    },
    {
     "cell_type": "code",
     "collapsed": false,
     "input": [
      "al_ncen1 = leauthaud.mean_occupation_centrals(halo_table = halos)\n",
      "leauthaud.param_dict['scatter_model_param1_centrals'] = 0.8\n",
      "al_ncen2 = leauthaud.mean_occupation_centrals(halo_table = halos)\n",
      "print np.all(al_ncen2 == al_ncen1)"
     ],
     "language": "python",
     "metadata": {},
     "outputs": [
      {
       "output_type": "stream",
       "stream": "stdout",
       "text": [
        "False\n"
       ]
      }
     ],
     "prompt_number": 3
    },
    {
     "cell_type": "code",
     "collapsed": false,
     "input": [
      "assleau.param_dict['scatter_model_param1'] = 0.2\n",
      "assal_ncen1 = assleau.mean_occupation(halo_table = halos)\n",
      "assleau.param_dict['scatter_model_param1'] = 0.8\n",
      "assal_ncen2 = assleau.mean_occupation(halo_table = halos)\n",
      "print np.all(assal_ncen2 == assal_ncen1)"
     ],
     "language": "python",
     "metadata": {},
     "outputs": [
      {
       "output_type": "stream",
       "stream": "stdout",
       "text": [
        "False\n"
       ]
      }
     ],
     "prompt_number": 4
    },
    {
     "cell_type": "code",
     "collapsed": false,
     "input": [
      "hearin.param_dict['mean_occupation_assembias_param1_centrals'] = 0.5\n",
      "strength1 = hearin.assembias_strength_centrals(prim_haloprop=halos['halo_mvir'])\n",
      "hearin.param_dict['mean_occupation_assembias_param1_centrals'] = 1.0\n",
      "strength2 = hearin.assembias_strength_centrals(prim_haloprop=halos['halo_mvir'])\n",
      "print np.all(strength1 == strength2)\n",
      "fracdiff = strength2/strength1\n",
      "print fracdiff.min(), fracdiff.max()"
     ],
     "language": "python",
     "metadata": {},
     "outputs": [
      {
       "output_type": "stream",
       "stream": "stdout",
       "text": [
        "False\n",
        "2.0 2.0\n"
       ]
      }
     ],
     "prompt_number": 9
    },
    {
     "cell_type": "code",
     "collapsed": false,
     "input": [],
     "language": "python",
     "metadata": {},
     "outputs": [],
     "prompt_number": 9
    },
    {
     "cell_type": "code",
     "collapsed": false,
     "input": [],
     "language": "python",
     "metadata": {},
     "outputs": [],
     "prompt_number": 7
    },
    {
     "cell_type": "code",
     "collapsed": false,
     "input": [],
     "language": "python",
     "metadata": {},
     "outputs": [],
     "prompt_number": 7
    },
    {
     "cell_type": "code",
     "collapsed": false,
     "input": [
      "from astropy.table import Table\n",
      "from halotools.utils.table_utils import compute_conditional_percentiles\n",
      "\n",
      "from matplotlib import lines as mlines\n",
      "\n",
      "Npts = 1e6\n",
      "mass = np.logspace(10, 15, Npts)\n",
      "zform = np.random.random(Npts)\n",
      "d = {'halo_mvir': mass, 'halo_zform': zform}\n",
      "halo_table = Table(d)\n",
      "halo_table['halo_zform_percentile'] = compute_conditional_percentiles(halo_table=halo_table, \n",
      "                                                   prim_haloprop_key='halo_mvir', \n",
      "                                                   sec_haloprop_key='halo_zform', \n",
      "                                                   dlog10_prim_haloprop=0.05)\n",
      "halo_table.sort('halo_mvir')\n",
      "\n",
      "highz_mask = halo_table['halo_zform_percentile'] > 0.5\n",
      "highz_halos = halo_table[highz_mask]\n",
      "lowz_halos = halo_table[np.invert(highz_mask)]\n",
      "highz_halos.sort('halo_mvir')\n",
      "lowz_halos.sort('halo_mvir')"
     ],
     "language": "python",
     "metadata": {},
     "outputs": [],
     "prompt_number": 8
    },
    {
     "cell_type": "code",
     "collapsed": false,
     "input": [
      "from halotools.empirical_models import Hearin15\n",
      "baseline_model20 = Hearin15(threshold=10, satellite_assembias=False, central_assembias=False)\n",
      "baseline_model80 = Hearin15(threshold=10, satellite_assembias=False, central_assembias=False)\n",
      "baseline_model80.param_dict['scatter_model_param1_centrals'] = 0.8\n",
      "\n",
      "assembias_model20 = Hearin15(threshold=10)\n",
      "assembias_model80 = Hearin15(threshold=10)\n",
      "assembias_model80.param_dict['scatter_model_param1_centrals'] = 0.8"
     ],
     "language": "python",
     "metadata": {},
     "outputs": [],
     "prompt_number": 5
    },
    {
     "cell_type": "code",
     "collapsed": false,
     "input": [],
     "language": "python",
     "metadata": {},
     "outputs": [],
     "prompt_number": 7
    },
    {
     "cell_type": "code",
     "collapsed": false,
     "input": [],
     "language": "python",
     "metadata": {},
     "outputs": []
    }
   ],
   "metadata": {}
  }
 ]
}