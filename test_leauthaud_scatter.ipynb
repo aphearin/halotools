{
 "metadata": {
  "name": "",
  "signature": "sha256:91e97d465769877fd54c6f747f5888dc2573b31b3500d319cfe9b9d35bb63744"
 },
 "nbformat": 3,
 "nbformat_minor": 0,
 "worksheets": [
  {
   "cells": [
    {
     "cell_type": "code",
     "collapsed": false,
     "input": [
      "%matplotlib inline\n",
      "from halotools.empirical_models import Leauthaud11Sats, Leauthaud11Cens\n",
      "sat_model = Leauthaud11Sats()\n",
      "cen_model = Leauthaud11Cens()\n",
      "\n",
      "Npts = 1e3\n",
      "mass = np.logspace(11.5, 15, Npts)"
     ],
     "language": "python",
     "metadata": {},
     "outputs": [],
     "prompt_number": 1
    },
    {
     "cell_type": "code",
     "collapsed": false,
     "input": [
      "sat_model.central_occupation_model.param_dict['scatter_model_param1'] = 0.2\n",
      "nsat20 = sat_model.mean_occupation(prim_haloprop=mass)\n",
      "sat_model.central_occupation_model.param_dict['scatter_model_param1'] = 0.8\n",
      "nsat80 = sat_model.mean_occupation(prim_haloprop=mass)\n"
     ],
     "language": "python",
     "metadata": {},
     "outputs": [],
     "prompt_number": 2
    },
    {
     "cell_type": "code",
     "collapsed": false,
     "input": [
      "plt.plot(mass, nsat80, '--', color='k', linewidth=3, \n",
      "         label = r'$\\sigma_{\\rm logM} = 0.8$')\n",
      "plt.plot(mass, nsat20, '-', color='k', linewidth=3, \n",
      "         label = r'$\\sigma_{\\rm logM} = 0.2$')\n",
      "\n",
      "plt.loglog()\n",
      "plt.ylim(ymin = 0.1, ymax=40)\n",
      "plt.xlim(xmin=1e12, xmax=1e14)\n",
      "plt.legend(frameon=False, fontsize=15, loc=4)"
     ],
     "language": "python",
     "metadata": {},
     "outputs": [
      {
       "metadata": {},
       "output_type": "pyout",
       "prompt_number": 3,
       "text": [
        "<matplotlib.legend.Legend at 0x108d2df10>"
       ]
      },
      {
       "metadata": {},
       "output_type": "display_data",
       "png": "[encoded data removed]",
       "text": [
        "<matplotlib.figure.Figure at 0x10866ad50>"
       ]
      }
     ],
     "prompt_number": 3
    },
    {
     "cell_type": "markdown",
     "metadata": {},
     "source": [
      "## Check parameter passing for centrals"
     ]
    },
    {
     "cell_type": "code",
     "collapsed": false,
     "input": [
      "cen_model.param_dict['scatter_model_param1'] = 0.8\n",
      "print cen_model.param_dict"
     ],
     "language": "python",
     "metadata": {},
     "outputs": [
      {
       "output_type": "stream",
       "stream": "stdout",
       "text": [
        "{'n10': 0.0351, 'n11': -0.0247, 'beta11': -0.826, 'beta10': 1.376, 'm11': 1.195, 'm10': 11.59, 'gamma11': 0.329, 'gamma10': 0.608, 'scatter_model_param1': 0.8}\n"
       ]
      }
     ],
     "prompt_number": 4
    },
    {
     "cell_type": "code",
     "collapsed": false,
     "input": [
      "print cen_model.smhm_model.param_dict"
     ],
     "language": "python",
     "metadata": {},
     "outputs": [
      {
       "output_type": "stream",
       "stream": "stdout",
       "text": [
        "{'m11': 1.195, 'm10': 11.59, 'n10': 0.0351, 'n11': -0.0247, 'gamma11': 0.329, 'gamma10': 0.608, 'scatter_model_param1': 0.2, 'beta11': -0.826, 'beta10': 1.376}\n"
       ]
      }
     ],
     "prompt_number": 5
    },
    {
     "cell_type": "code",
     "collapsed": false,
     "input": [
      "print cen_model.smhm_model.scatter_model.param_dict"
     ],
     "language": "python",
     "metadata": {},
     "outputs": [
      {
       "output_type": "stream",
       "stream": "stdout",
       "text": [
        "{'scatter_model_param1': 0.2}\n"
       ]
      }
     ],
     "prompt_number": 6
    },
    {
     "cell_type": "markdown",
     "metadata": {},
     "source": [
      "## Check parameter passing for satellites"
     ]
    },
    {
     "cell_type": "code",
     "collapsed": false,
     "input": [
      "print sat_model.central_occupation_model.param_dict"
     ],
     "language": "python",
     "metadata": {},
     "outputs": [
      {
       "output_type": "stream",
       "stream": "stdout",
       "text": [
        "{'n10': 0.0351, 'n11': -0.0247, 'beta11': -0.826, 'beta10': 1.376, 'm11': 1.195, 'm10': 11.59, 'gamma11': 0.329, 'gamma10': 0.608, 'scatter_model_param1': 0.2}\n"
       ]
      }
     ],
     "prompt_number": 7
    },
    {
     "cell_type": "code",
     "collapsed": false,
     "input": [
      "print sat_model.central_occupation_model.smhm_model.param_dict"
     ],
     "language": "python",
     "metadata": {},
     "outputs": [
      {
       "output_type": "stream",
       "stream": "stdout",
       "text": [
        "{'m11': 1.195, 'm10': 11.59, 'n10': 0.0351, 'n11': -0.0247, 'gamma11': 0.329, 'gamma10': 0.608, 'scatter_model_param1': 0.2, 'beta11': -0.826, 'beta10': 1.376}\n"
       ]
      }
     ],
     "prompt_number": 8
    },
    {
     "cell_type": "code",
     "collapsed": false,
     "input": [
      "print sat_model.central_occupation_model.smhm_model.scatter_model.param_dict"
     ],
     "language": "python",
     "metadata": {},
     "outputs": [
      {
       "output_type": "stream",
       "stream": "stdout",
       "text": [
        "{'scatter_model_param1': 0.2}\n"
       ]
      }
     ],
     "prompt_number": 9
    },
    {
     "cell_type": "code",
     "collapsed": false,
     "input": [
      "print sat_model.param_dict"
     ],
     "language": "python",
     "metadata": {},
     "outputs": [
      {
       "output_type": "stream",
       "stream": "stdout",
       "text": [
        "{'alphasat': 1.0, 'n10': 0.0351, 'n11': -0.0247, 'betasat': 0.859, 'm10': 11.59, 'bsat': 10.62, 'beta11': -0.826, 'beta10': 1.376, 'm11': 1.195, 'betacut': -0.13, 'gamma11': 0.329, 'gamma10': 0.608, 'bcut': 1.47, 'scatter_model_param1': 0.2}\n"
       ]
      }
     ],
     "prompt_number": 10
    },
    {
     "cell_type": "code",
     "collapsed": false,
     "input": [],
     "language": "python",
     "metadata": {},
     "outputs": []
    }
   ],
   "metadata": {}
  }
 ]
}